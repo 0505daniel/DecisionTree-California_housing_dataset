{
 "cells": [
  {
   "attachments": {},
   "cell_type": "markdown",
   "metadata": {
    "id": "ottWOI-AtCHS"
   },
   "source": [
    "#### <font color = orange><b>[IMEN321] 데이터마이닝 Team project / 2022-1학기</b></font>\n",
    "<b>텍스트 마이닝 기법을 활용한 Mercari 상품 데이터 분석/예측</b><br>\n",
    "<a href = \"https://www.kaggle.com/c/mercari-price-suggestion-challenge\">Link to kaggle</a>\n",
    "\n",
    "<img src=\"https://miro.medium.com/max/1400/0*y_W6nAQZkx-F5ICQ\" width=\"500\" height=500><br>\n",
    "\n",
    "\n",
    "<u2pl>\n",
    "    <li>Mercari is an e-commerce company currently operational in the US and Japan.</li><br>\n",
    "    <li>Mercari is a platform where people sell their products which are mostly used products so    when a seller wants to sell his product on the website he/she would not always be sure as to how much the product should be sold for.</li><br>\n",
    "    <li>If the price suggested is too low then the seller might lose interest in selling the product on the platform and if the price suggested is too high then it will be difficult to find a buyer for it.</li><br>\n",
    "    <li>Mercari wants to suggest appropriate price to the seller for his product. </li>\n",
    "    </ul>\n",
    " \n",
    "<br>\n",
    "<b>“상품의 가격은 상품명, 상품 상세 설명, 상품의 상태 등의 정형/비정형 데이터로 설명될 수 있다. 이를 중요한 변수로 활용해 합리적인 가격 예측 결과를 도출할 수 있는가?”</b>\n"
   ]
  },
  {
   "cell_type": "code",
   "execution_count": 13,
   "metadata": {
    "colab": {
     "base_uri": "https://localhost:8080/",
     "height": 425
    },
    "id": "CKMu9bvdtCHb",
    "outputId": "23da152c-961d-40e7-b04a-eed41df24e0e"
   },
   "outputs": [
    {
     "name": "stdout",
     "output_type": "stream",
     "text": [
      "(1482535, 8)\n"
     ]
    },
    {
     "data": {
      "text/html": [
       "<div>\n",
       "<style scoped>\n",
       "    .dataframe tbody tr th:only-of-type {\n",
       "        vertical-align: middle;\n",
       "    }\n",
       "\n",
       "    .dataframe tbody tr th {\n",
       "        vertical-align: top;\n",
       "    }\n",
       "\n",
       "    .dataframe thead th {\n",
       "        text-align: right;\n",
       "    }\n",
       "</style>\n",
       "<table border=\"1\" class=\"dataframe\">\n",
       "  <thead>\n",
       "    <tr style=\"text-align: right;\">\n",
       "      <th></th>\n",
       "      <th>train_id</th>\n",
       "      <th>name</th>\n",
       "      <th>item_condition_id</th>\n",
       "      <th>category_name</th>\n",
       "      <th>brand_name</th>\n",
       "      <th>price</th>\n",
       "      <th>shipping</th>\n",
       "      <th>item_description</th>\n",
       "    </tr>\n",
       "  </thead>\n",
       "  <tbody>\n",
       "    <tr>\n",
       "      <th>0</th>\n",
       "      <td>0</td>\n",
       "      <td>MLB Cincinnati Reds T Shirt Size XL</td>\n",
       "      <td>3</td>\n",
       "      <td>Men/Tops/T-shirts</td>\n",
       "      <td>NaN</td>\n",
       "      <td>10.0</td>\n",
       "      <td>1</td>\n",
       "      <td>No description yet</td>\n",
       "    </tr>\n",
       "    <tr>\n",
       "      <th>1</th>\n",
       "      <td>1</td>\n",
       "      <td>Razer BlackWidow Chroma Keyboard</td>\n",
       "      <td>3</td>\n",
       "      <td>Electronics/Computers &amp; Tablets/Components &amp; P...</td>\n",
       "      <td>Razer</td>\n",
       "      <td>52.0</td>\n",
       "      <td>0</td>\n",
       "      <td>This keyboard is in great condition and works ...</td>\n",
       "    </tr>\n",
       "    <tr>\n",
       "      <th>2</th>\n",
       "      <td>2</td>\n",
       "      <td>AVA-VIV Blouse</td>\n",
       "      <td>1</td>\n",
       "      <td>Women/Tops &amp; Blouses/Blouse</td>\n",
       "      <td>Target</td>\n",
       "      <td>10.0</td>\n",
       "      <td>1</td>\n",
       "      <td>Adorable top with a hint of lace and a key hol...</td>\n",
       "    </tr>\n",
       "    <tr>\n",
       "      <th>3</th>\n",
       "      <td>3</td>\n",
       "      <td>Leather Horse Statues</td>\n",
       "      <td>1</td>\n",
       "      <td>Home/Home Décor/Home Décor Accents</td>\n",
       "      <td>NaN</td>\n",
       "      <td>35.0</td>\n",
       "      <td>1</td>\n",
       "      <td>New with tags. Leather horses. Retail for [rm]...</td>\n",
       "    </tr>\n",
       "    <tr>\n",
       "      <th>4</th>\n",
       "      <td>4</td>\n",
       "      <td>24K GOLD plated rose</td>\n",
       "      <td>1</td>\n",
       "      <td>Women/Jewelry/Necklaces</td>\n",
       "      <td>NaN</td>\n",
       "      <td>44.0</td>\n",
       "      <td>0</td>\n",
       "      <td>Complete with certificate of authenticity</td>\n",
       "    </tr>\n",
       "    <tr>\n",
       "      <th>5</th>\n",
       "      <td>5</td>\n",
       "      <td>Bundled items requested for Ruie</td>\n",
       "      <td>3</td>\n",
       "      <td>Women/Other/Other</td>\n",
       "      <td>NaN</td>\n",
       "      <td>59.0</td>\n",
       "      <td>0</td>\n",
       "      <td>Banana republic bottoms, Candies skirt with ma...</td>\n",
       "    </tr>\n",
       "    <tr>\n",
       "      <th>6</th>\n",
       "      <td>6</td>\n",
       "      <td>Acacia pacific tides santorini top</td>\n",
       "      <td>3</td>\n",
       "      <td>Women/Swimwear/Two-Piece</td>\n",
       "      <td>Acacia Swimwear</td>\n",
       "      <td>64.0</td>\n",
       "      <td>0</td>\n",
       "      <td>Size small but straps slightly shortened to fi...</td>\n",
       "    </tr>\n",
       "    <tr>\n",
       "      <th>7</th>\n",
       "      <td>7</td>\n",
       "      <td>Girls cheer and tumbling bundle of 7</td>\n",
       "      <td>3</td>\n",
       "      <td>Sports &amp; Outdoors/Apparel/Girls</td>\n",
       "      <td>Soffe</td>\n",
       "      <td>6.0</td>\n",
       "      <td>1</td>\n",
       "      <td>You get three pairs of Sophie cheer shorts siz...</td>\n",
       "    </tr>\n",
       "    <tr>\n",
       "      <th>8</th>\n",
       "      <td>8</td>\n",
       "      <td>Girls Nike Pro shorts</td>\n",
       "      <td>3</td>\n",
       "      <td>Sports &amp; Outdoors/Apparel/Girls</td>\n",
       "      <td>Nike</td>\n",
       "      <td>19.0</td>\n",
       "      <td>0</td>\n",
       "      <td>Girls Size small Plus green. Three shorts total.</td>\n",
       "    </tr>\n",
       "    <tr>\n",
       "      <th>9</th>\n",
       "      <td>9</td>\n",
       "      <td>Porcelain clown doll checker pants VTG</td>\n",
       "      <td>3</td>\n",
       "      <td>Vintage &amp; Collectibles/Collectibles/Doll</td>\n",
       "      <td>NaN</td>\n",
       "      <td>8.0</td>\n",
       "      <td>0</td>\n",
       "      <td>I realized his pants are on backwards after th...</td>\n",
       "    </tr>\n",
       "  </tbody>\n",
       "</table>\n",
       "</div>"
      ],
      "text/plain": [
       "   train_id                                    name  item_condition_id  \\\n",
       "0         0     MLB Cincinnati Reds T Shirt Size XL                  3   \n",
       "1         1        Razer BlackWidow Chroma Keyboard                  3   \n",
       "2         2                          AVA-VIV Blouse                  1   \n",
       "3         3                   Leather Horse Statues                  1   \n",
       "4         4                    24K GOLD plated rose                  1   \n",
       "5         5        Bundled items requested for Ruie                  3   \n",
       "6         6      Acacia pacific tides santorini top                  3   \n",
       "7         7    Girls cheer and tumbling bundle of 7                  3   \n",
       "8         8                   Girls Nike Pro shorts                  3   \n",
       "9         9  Porcelain clown doll checker pants VTG                  3   \n",
       "\n",
       "                                       category_name       brand_name  price  \\\n",
       "0                                  Men/Tops/T-shirts              NaN   10.0   \n",
       "1  Electronics/Computers & Tablets/Components & P...            Razer   52.0   \n",
       "2                        Women/Tops & Blouses/Blouse           Target   10.0   \n",
       "3                 Home/Home Décor/Home Décor Accents              NaN   35.0   \n",
       "4                            Women/Jewelry/Necklaces              NaN   44.0   \n",
       "5                                  Women/Other/Other              NaN   59.0   \n",
       "6                           Women/Swimwear/Two-Piece  Acacia Swimwear   64.0   \n",
       "7                    Sports & Outdoors/Apparel/Girls            Soffe    6.0   \n",
       "8                    Sports & Outdoors/Apparel/Girls             Nike   19.0   \n",
       "9           Vintage & Collectibles/Collectibles/Doll              NaN    8.0   \n",
       "\n",
       "   shipping                                   item_description  \n",
       "0         1                                 No description yet  \n",
       "1         0  This keyboard is in great condition and works ...  \n",
       "2         1  Adorable top with a hint of lace and a key hol...  \n",
       "3         1  New with tags. Leather horses. Retail for [rm]...  \n",
       "4         0          Complete with certificate of authenticity  \n",
       "5         0  Banana republic bottoms, Candies skirt with ma...  \n",
       "6         0  Size small but straps slightly shortened to fi...  \n",
       "7         1  You get three pairs of Sophie cheer shorts siz...  \n",
       "8         0   Girls Size small Plus green. Three shorts total.  \n",
       "9         0  I realized his pants are on backwards after th...  "
      ]
     },
     "execution_count": 13,
     "metadata": {},
     "output_type": "execute_result"
    }
   ],
   "source": [
    "import pandas as pd\n",
    "\n",
    "# load tsv file/ input your tsv dir\n",
    "mercari_df= pd.read_csv('C:/Users/user/Desktop/living/school/전공/데이터마이닝/팀프로젝트/mercari_train.tsv',\n",
    "                        sep='\\t')\n",
    "\n",
    "print(mercari_df.shape)\n",
    "mercari_df.head(10)"
   ]
  },
  {
   "cell_type": "markdown",
   "metadata": {
    "id": "lV3rdL96tCHc"
   },
   "source": [
    "<b> 해당 데이터셋은 1,482,535개의 행과 8개의 열로 구성되어 있다. 각 피처에 관한 정보는 다음과 같다.</b><br><br>\n",
    "\n",
    "* train_id : 데이터 id\n",
    "* name : 제품명\n",
    "* item_condition_id : 판매자가 제공하는 제품 상태\n",
    "* category_name : 카테고리 명\n",
    "* brand_name : 브랜드 이름\n",
    "* price : 제품 가격. 예측을 위한 타깃 속성\n",
    "* shipping : 배송비 무료 여부. 1이면 무료(판매자가 지불), 0이면 유료(구매자 지불)\n",
    "* item_description : 제품에 대한 설명"
   ]
  },
  {
   "cell_type": "markdown",
   "metadata": {
    "id": "wKCQiiWb2LPm"
   },
   "source": [
    "**데이터 살펴보기**"
   ]
  },
  {
   "cell_type": "code",
   "execution_count": 14,
   "metadata": {
    "colab": {
     "base_uri": "https://localhost:8080/"
    },
    "id": "blx9ExTX1naD",
    "outputId": "b7978f2c-1abc-447d-d700-c0a899b0e409"
   },
   "outputs": [
    {
     "name": "stdout",
     "output_type": "stream",
     "text": [
      "<class 'pandas.core.frame.DataFrame'>\n",
      "RangeIndex: 1482535 entries, 0 to 1482534\n",
      "Data columns (total 8 columns):\n",
      " #   Column             Non-Null Count    Dtype  \n",
      "---  ------             --------------    -----  \n",
      " 0   train_id           1482535 non-null  int64  \n",
      " 1   name               1482535 non-null  object \n",
      " 2   item_condition_id  1482535 non-null  int64  \n",
      " 3   category_name      1476208 non-null  object \n",
      " 4   brand_name         849853 non-null   object \n",
      " 5   price              1482535 non-null  float64\n",
      " 6   shipping           1482535 non-null  int64  \n",
      " 7   item_description   1482531 non-null  object \n",
      "dtypes: float64(1), int64(3), object(4)\n",
      "memory usage: 90.5+ MB\n",
      "None\n",
      "           train_id  item_condition_id         price      shipping\n",
      "count  1.482535e+06       1.482535e+06  1.482535e+06  1.482535e+06\n",
      "mean   7.412670e+05       1.907380e+00  2.673752e+01  4.472744e-01\n",
      "std    4.279711e+05       9.031586e-01  3.858607e+01  4.972124e-01\n",
      "min    0.000000e+00       1.000000e+00  0.000000e+00  0.000000e+00\n",
      "25%    3.706335e+05       1.000000e+00  1.000000e+01  0.000000e+00\n",
      "50%    7.412670e+05       2.000000e+00  1.700000e+01  0.000000e+00\n",
      "75%    1.111900e+06       3.000000e+00  2.900000e+01  1.000000e+00\n",
      "max    1.482534e+06       5.000000e+00  2.009000e+03  1.000000e+00\n"
     ]
    }
   ],
   "source": [
    "print(mercari_df.info())\n",
    "print(mercari_df.describe())"
   ]
  },
  {
   "cell_type": "markdown",
   "metadata": {
    "id": "SuHlaekk2g1T"
   },
   "source": [
    "**결측치 확인**\n",
    "* category_name, brand_name 그리고 item_description 피처에 결측치가 있다는 것을 알 수 있다. \n",
    "* Brand_name column에 결측치가 가장 많고 전체 데이터 수의 42.68%나 되기에 target variable 예측이 어렵다"
   ]
  },
  {
   "cell_type": "code",
   "execution_count": 16,
   "metadata": {
    "colab": {
     "base_uri": "https://localhost:8080/"
    },
    "id": "yRtG4YUU1F7x",
    "outputId": "e9591e33-ab83-4d89-d1e4-cf631b556600"
   },
   "outputs": [
    {
     "name": "stdout",
     "output_type": "stream",
     "text": [
      "train_id                  0\n",
      "name                      0\n",
      "item_condition_id         0\n",
      "category_name          6327\n",
      "brand_name           632682\n",
      "price                     0\n",
      "shipping                  0\n",
      "item_description          4\n",
      "dtype: int64\n",
      "brand_name 결측치 :  42.68 %\n",
      "category_name 결측치 :  0.43 %\n",
      "item_description 결측치 :  0.0003 %\n"
     ]
    }
   ],
   "source": [
    "total_rows = mercari_df.shape[0]\n",
    "null_values = mercari_df.isnull().sum(axis=0)\n",
    "print(null_values)\n",
    "print(\"brand_name 결측치 : \", round(null_values['brand_name']/total_rows*100,2),'%')\n",
    "print(\"category_name 결측치 : \", round(null_values['category_name']/total_rows*100,2),'%')\n",
    "print(\"item_description 결측치 : \", round(null_values['item_description']/total_rows*100,4),'%')"
   ]
  },
  {
   "cell_type": "markdown",
   "metadata": {
    "id": "Y91nJYJN2wS8"
   },
   "source": [
    "**log 변환 시 문제되는 이상치 제거**"
   ]
  },
  {
   "cell_type": "code",
   "execution_count": 6,
   "metadata": {
    "colab": {
     "base_uri": "https://localhost:8080/",
     "height": 206
    },
    "id": "fxR9OR6I1fPN",
    "outputId": "9cbdf5de-3dae-410d-9040-ab10b0895e2c"
   },
   "outputs": [
    {
     "data": {
      "text/html": [
       "\n",
       "  <div id=\"df-902123f0-9db3-4e72-af8c-90f9658a00dd\">\n",
       "    <div class=\"colab-df-container\">\n",
       "      <div>\n",
       "<style scoped>\n",
       "    .dataframe tbody tr th:only-of-type {\n",
       "        vertical-align: middle;\n",
       "    }\n",
       "\n",
       "    .dataframe tbody tr th {\n",
       "        vertical-align: top;\n",
       "    }\n",
       "\n",
       "    .dataframe thead th {\n",
       "        text-align: right;\n",
       "    }\n",
       "</style>\n",
       "<table border=\"1\" class=\"dataframe\">\n",
       "  <thead>\n",
       "    <tr style=\"text-align: right;\">\n",
       "      <th></th>\n",
       "      <th>train_id</th>\n",
       "      <th>name</th>\n",
       "      <th>item_condition_id</th>\n",
       "      <th>category_name</th>\n",
       "      <th>brand_name</th>\n",
       "      <th>price</th>\n",
       "      <th>shipping</th>\n",
       "      <th>item_description</th>\n",
       "    </tr>\n",
       "  </thead>\n",
       "  <tbody>\n",
       "    <tr>\n",
       "      <th>0</th>\n",
       "      <td>0</td>\n",
       "      <td>MLB Cincinnati Reds T Shirt Size XL</td>\n",
       "      <td>3.0</td>\n",
       "      <td>Men/Tops/T-shirts</td>\n",
       "      <td>NaN</td>\n",
       "      <td>10.0</td>\n",
       "      <td>1.0</td>\n",
       "      <td>No description yet</td>\n",
       "    </tr>\n",
       "    <tr>\n",
       "      <th>1</th>\n",
       "      <td>1</td>\n",
       "      <td>Razer BlackWidow Chroma Keyboard</td>\n",
       "      <td>3.0</td>\n",
       "      <td>Electronics/Computers &amp; Tablets/Components &amp; P...</td>\n",
       "      <td>Razer</td>\n",
       "      <td>52.0</td>\n",
       "      <td>0.0</td>\n",
       "      <td>This keyboard is in great condition and works ...</td>\n",
       "    </tr>\n",
       "    <tr>\n",
       "      <th>2</th>\n",
       "      <td>2</td>\n",
       "      <td>AVA-VIV Blouse</td>\n",
       "      <td>1.0</td>\n",
       "      <td>Women/Tops &amp; Blouses/Blouse</td>\n",
       "      <td>Target</td>\n",
       "      <td>10.0</td>\n",
       "      <td>1.0</td>\n",
       "      <td>Adorable top with a hint of lace and a key hol...</td>\n",
       "    </tr>\n",
       "    <tr>\n",
       "      <th>3</th>\n",
       "      <td>3</td>\n",
       "      <td>Leather Horse Statues</td>\n",
       "      <td>1.0</td>\n",
       "      <td>Home/Home Décor/Home Décor Accents</td>\n",
       "      <td>NaN</td>\n",
       "      <td>35.0</td>\n",
       "      <td>1.0</td>\n",
       "      <td>New with tags. Leather horses. Retail for [rm]...</td>\n",
       "    </tr>\n",
       "    <tr>\n",
       "      <th>4</th>\n",
       "      <td>4</td>\n",
       "      <td>24K GOLD plated rose</td>\n",
       "      <td>1.0</td>\n",
       "      <td>Women/Jewelry/Necklaces</td>\n",
       "      <td>NaN</td>\n",
       "      <td>44.0</td>\n",
       "      <td>0.0</td>\n",
       "      <td>Complete with certificate of authenticity</td>\n",
       "    </tr>\n",
       "  </tbody>\n",
       "</table>\n",
       "</div>\n",
       "      <button class=\"colab-df-convert\" onclick=\"convertToInteractive('df-902123f0-9db3-4e72-af8c-90f9658a00dd')\"\n",
       "              title=\"Convert this dataframe to an interactive table.\"\n",
       "              style=\"display:none;\">\n",
       "        \n",
       "  <svg xmlns=\"http://www.w3.org/2000/svg\" height=\"24px\"viewBox=\"0 0 24 24\"\n",
       "       width=\"24px\">\n",
       "    <path d=\"M0 0h24v24H0V0z\" fill=\"none\"/>\n",
       "    <path d=\"M18.56 5.44l.94 2.06.94-2.06 2.06-.94-2.06-.94-.94-2.06-.94 2.06-2.06.94zm-11 1L8.5 8.5l.94-2.06 2.06-.94-2.06-.94L8.5 2.5l-.94 2.06-2.06.94zm10 10l.94 2.06.94-2.06 2.06-.94-2.06-.94-.94-2.06-.94 2.06-2.06.94z\"/><path d=\"M17.41 7.96l-1.37-1.37c-.4-.4-.92-.59-1.43-.59-.52 0-1.04.2-1.43.59L10.3 9.45l-7.72 7.72c-.78.78-.78 2.05 0 2.83L4 21.41c.39.39.9.59 1.41.59.51 0 1.02-.2 1.41-.59l7.78-7.78 2.81-2.81c.8-.78.8-2.07 0-2.86zM5.41 20L4 18.59l7.72-7.72 1.47 1.35L5.41 20z\"/>\n",
       "  </svg>\n",
       "      </button>\n",
       "      \n",
       "  <style>\n",
       "    .colab-df-container {\n",
       "      display:flex;\n",
       "      flex-wrap:wrap;\n",
       "      gap: 12px;\n",
       "    }\n",
       "\n",
       "    .colab-df-convert {\n",
       "      background-color: #E8F0FE;\n",
       "      border: none;\n",
       "      border-radius: 50%;\n",
       "      cursor: pointer;\n",
       "      display: none;\n",
       "      fill: #1967D2;\n",
       "      height: 32px;\n",
       "      padding: 0 0 0 0;\n",
       "      width: 32px;\n",
       "    }\n",
       "\n",
       "    .colab-df-convert:hover {\n",
       "      background-color: #E2EBFA;\n",
       "      box-shadow: 0px 1px 2px rgba(60, 64, 67, 0.3), 0px 1px 3px 1px rgba(60, 64, 67, 0.15);\n",
       "      fill: #174EA6;\n",
       "    }\n",
       "\n",
       "    [theme=dark] .colab-df-convert {\n",
       "      background-color: #3B4455;\n",
       "      fill: #D2E3FC;\n",
       "    }\n",
       "\n",
       "    [theme=dark] .colab-df-convert:hover {\n",
       "      background-color: #434B5C;\n",
       "      box-shadow: 0px 1px 3px 1px rgba(0, 0, 0, 0.15);\n",
       "      filter: drop-shadow(0px 1px 2px rgba(0, 0, 0, 0.3));\n",
       "      fill: #FFFFFF;\n",
       "    }\n",
       "  </style>\n",
       "\n",
       "      <script>\n",
       "        const buttonEl =\n",
       "          document.querySelector('#df-902123f0-9db3-4e72-af8c-90f9658a00dd button.colab-df-convert');\n",
       "        buttonEl.style.display =\n",
       "          google.colab.kernel.accessAllowed ? 'block' : 'none';\n",
       "\n",
       "        async function convertToInteractive(key) {\n",
       "          const element = document.querySelector('#df-902123f0-9db3-4e72-af8c-90f9658a00dd');\n",
       "          const dataTable =\n",
       "            await google.colab.kernel.invokeFunction('convertToInteractive',\n",
       "                                                     [key], {});\n",
       "          if (!dataTable) return;\n",
       "\n",
       "          const docLinkHtml = 'Like what you see? Visit the ' +\n",
       "            '<a target=\"_blank\" href=https://colab.research.google.com/notebooks/data_table.ipynb>data table notebook</a>'\n",
       "            + ' to learn more about interactive tables.';\n",
       "          element.innerHTML = '';\n",
       "          dataTable['output_type'] = 'display_data';\n",
       "          await google.colab.output.renderOutput(dataTable, element);\n",
       "          const docLink = document.createElement('div');\n",
       "          docLink.innerHTML = docLinkHtml;\n",
       "          element.appendChild(docLink);\n",
       "        }\n",
       "      </script>\n",
       "    </div>\n",
       "  </div>\n",
       "  "
      ],
      "text/plain": [
       "   train_id                                 name  item_condition_id  \\\n",
       "0         0  MLB Cincinnati Reds T Shirt Size XL                3.0   \n",
       "1         1     Razer BlackWidow Chroma Keyboard                3.0   \n",
       "2         2                       AVA-VIV Blouse                1.0   \n",
       "3         3                Leather Horse Statues                1.0   \n",
       "4         4                 24K GOLD plated rose                1.0   \n",
       "\n",
       "                                       category_name brand_name  price  \\\n",
       "0                                  Men/Tops/T-shirts        NaN   10.0   \n",
       "1  Electronics/Computers & Tablets/Components & P...      Razer   52.0   \n",
       "2                        Women/Tops & Blouses/Blouse     Target   10.0   \n",
       "3                 Home/Home Décor/Home Décor Accents        NaN   35.0   \n",
       "4                            Women/Jewelry/Necklaces        NaN   44.0   \n",
       "\n",
       "   shipping                                   item_description  \n",
       "0       1.0                                 No description yet  \n",
       "1       0.0  This keyboard is in great condition and works ...  \n",
       "2       1.0  Adorable top with a hint of lace and a key hol...  \n",
       "3       1.0  New with tags. Leather horses. Retail for [rm]...  \n",
       "4       0.0          Complete with certificate of authenticity  "
      ]
     },
     "execution_count": 6,
     "metadata": {},
     "output_type": "execute_result"
    }
   ],
   "source": [
    "mercari_df = mercari_df[mercari_df['price']>=5]  # Removing the prodicts with prices less than 5\n",
    "mercari_df = mercari_df[mercari_df['price']<=2000]  # Removing the prodicts with prices more than 2000\n",
    "mercari_df.head()"
   ]
  },
  {
   "cell_type": "code",
   "execution_count": 7,
   "metadata": {
    "id": "_syMnXRP6Rj5"
   },
   "outputs": [],
   "source": [
    "%matplotlib inline\n",
    "import warnings\n",
    "warnings.filterwarnings(\"ignore\")\n",
    "import gc\n",
    "\n",
    "import pandas as pd\n",
    "import numpy as np\n",
    "import string\n",
    "import matplotlib.pyplot as plt\n",
    "import seaborn as sns\n",
    "import math\n",
    "from tqdm.notebook import tqdm\n",
    "tqdm.pandas()\n",
    "\n",
    "from sklearn.metrics import mean_squared_log_error\n",
    "import pickle\n",
    "import regex as re\n",
    "\n",
    "from sklearn.model_selection import train_test_split\n",
    "import scipy\n",
    "from scipy.sparse import hstack\n",
    "\n",
    "from scipy import stats\n",
    "\n",
    "mercari_df['log_prices']= np.log(mercari_df['price'].values)"
   ]
  },
  {
   "cell_type": "markdown",
   "metadata": {
    "id": "St4Gtte2tCHg"
   },
   "source": [
    "**각 피처들의 유형 살펴보기**"
   ]
  },
  {
   "cell_type": "markdown",
   "metadata": {
    "id": "7ZOfQn2k2j6P"
   },
   "source": [
    "**- item_condition_id**"
   ]
  },
  {
   "cell_type": "code",
   "execution_count": 8,
   "metadata": {
    "colab": {
     "base_uri": "https://localhost:8080/",
     "height": 381
    },
    "id": "dzwIMKGe19NL",
    "outputId": "cf6aaec1-05a6-4549-c93c-b85fa26b2aaa"
   },
   "outputs": [
    {
     "name": "stdout",
     "output_type": "stream",
     "text": [
      "Condition 1 = 41.62 %\n",
      "Condition 2 = 24.97 %\n",
      "Condition 3 = 28.72 %\n",
      "Condition 4 = 2.09 %\n",
      "Condition 5 = 0.15 %\n"
     ]
    },
    {
     "data": {
      "text/plain": [
       "<matplotlib.axes._subplots.AxesSubplot at 0x7fdafaaa3510>"
      ]
     },
     "execution_count": 8,
     "metadata": {},
     "output_type": "execute_result"
    },
    {
     "data": {
      "image/png": "[encoded data removed]",
      "text/plain": [
       "<Figure size 432x288 with 1 Axes>"
      ]
     },
     "metadata": {
      "needs_background": "light"
     },
     "output_type": "display_data"
    }
   ],
   "source": [
    "categories_counts = mercari_df['item_condition_id'].value_counts()\n",
    "print(\"Condition 1 =\", round(categories_counts[1]/total_rows*100,2),'%')\n",
    "print(\"Condition 2 =\", round(categories_counts[2]/total_rows*100,2),'%')\n",
    "print(\"Condition 3 =\", round(categories_counts[3]/total_rows*100,2),'%')\n",
    "print(\"Condition 4 =\", round(categories_counts[4]/total_rows*100,2),'%')\n",
    "print(\"Condition 5 =\", round(categories_counts[5]/total_rows*100,2),'%')\n",
    "\n",
    "mercari_df['item_condition_id'].value_counts().plot.bar(color=['red','orange','yellow','green','blue'])"
   ]
  },
  {
   "cell_type": "markdown",
   "metadata": {
    "id": "EB4PK3Tt27V7"
   },
   "source": [
    "**- shipping**"
   ]
  },
  {
   "cell_type": "code",
   "execution_count": 9,
   "metadata": {
    "colab": {
     "base_uri": "https://localhost:8080/"
    },
    "id": "LNrHcGVFtCHg",
    "outputId": "9973f100-78df-4316-c2c5-f8656ffacb3a"
   },
   "outputs": [
    {
     "name": "stdout",
     "output_type": "stream",
     "text": [
      "Shipping 값 유형:\n",
      " 0.0    71573\n",
      "1.0    54953\n",
      "Name: shipping, dtype: int64\n",
      "item_condition_id 값 유형:\n",
      " 1.0    53983\n",
      "3.0    37247\n",
      "2.0    32383\n",
      "4.0     2713\n",
      "5.0      200\n",
      "Name: item_condition_id, dtype: int64\n"
     ]
    }
   ],
   "source": [
    "print('Shipping 값 유형:\\n',mercari_df['shipping'].value_counts())\n",
    "print('item_condition_id 값 유형:\\n',mercari_df['item_condition_id'].value_counts())\n"
   ]
  },
  {
   "cell_type": "code",
   "execution_count": 10,
   "metadata": {
    "colab": {
     "base_uri": "https://localhost:8080/",
     "height": 395
    },
    "id": "RMX8Dnyy3FGl",
    "outputId": "998da41b-5175-44be-ca60-8644ad246581"
   },
   "outputs": [
    {
     "name": "stdout",
     "output_type": "stream",
     "text": [
      "Shipping 0 = 55.18 %\n",
      "Shipping 1 = 42.37 %\n"
     ]
    },
    {
     "data": {
      "text/plain": [
       "Text(0, 0.5, 'Number of products')"
      ]
     },
     "execution_count": 10,
     "metadata": {},
     "output_type": "execute_result"
    },
    {
     "data": {
      "image/png": "[encoded data removed]",
      "text/plain": [
       "<Figure size 504x360 with 1 Axes>"
      ]
     },
     "metadata": {
      "needs_background": "light"
     },
     "output_type": "display_data"
    }
   ],
   "source": [
    "shipping_counts = mercari_df['shipping'].value_counts()\n",
    "print(\"Shipping 0 =\", round(shipping_counts[0]/total_rows*100,2),'%')\n",
    "print(\"Shipping 1 =\", round(shipping_counts[1]/total_rows*100,2),'%')\n",
    "ax = mercari_df['shipping'].value_counts().plot.bar(color=['orange','skyblue'], figsize=(7,5))\n",
    "ax.set_xlabel(\"Shipping\")\n",
    "ax.set_ylabel(\"Number of products\")"
   ]
  },
  {
   "cell_type": "markdown",
   "metadata": {
    "id": "Btd-M2dv3JrV"
   },
   "source": [
    "**- shipping에 따른 log_prices의 분포**"
   ]
  },
  {
   "cell_type": "code",
   "execution_count": 11,
   "metadata": {
    "colab": {
     "base_uri": "https://localhost:8080/",
     "height": 629
    },
    "id": "YQhGldrI3lTR",
    "outputId": "79e5b41c-9188-40bb-b160-aec16233c7f2"
   },
   "outputs": [
    {
     "data": {
      "image/png": "[encoded data removed]",
      "text/plain": [
       "<Figure size 864x720 with 2 Axes>"
      ]
     },
     "metadata": {
      "needs_background": "light"
     },
     "output_type": "display_data"
    },
    {
     "name": "stdout",
     "output_type": "stream",
     "text": [
      "Lowest log_prices of buyer_shipping :  1.705\n",
      "Lowest log_prices of seller_shipping :  1.609\n"
     ]
    }
   ],
   "source": [
    "seller_shipping = mercari_df[mercari_df['shipping']==1]['log_prices']\n",
    "#seller_shipping = seller_shipping[seller_shipping<150]\n",
    "buyer_shipping = mercari_df[mercari_df['shipping']==0]['log_prices']\n",
    "#buyer_shipping = buyer_shipping[buyer_shipping<150]\n",
    "plt.figure(figsize=(12,10))\n",
    "plt.subplot(211)\n",
    "ax = sns.distplot(seller_shipping, hist=False, label=\"seller_shipping\")\n",
    "ax = sns.distplot(buyer_shipping, hist=False, label=\"buyer_shipping\")\n",
    "h,l = ax.get_legend_handles_labels()\n",
    "ax.legend(h, l)\n",
    "plt.grid()\n",
    "\n",
    "plt.subplot(212)\n",
    "plt.boxplot([seller_shipping, buyer_shipping])\n",
    "plt.xticks([1,2],('seller_shipping','buyer_shipping'))\n",
    "plt.ylabel('log_prices')\n",
    "plt.grid()\n",
    "plt.show()\n",
    "print(\"Lowest log_prices of buyer_shipping : \",round(buyer_shipping.min(),3))\n",
    "print(\"Lowest log_prices of seller_shipping : \",round(seller_shipping.min(),3))"
   ]
  },
  {
   "cell_type": "markdown",
   "metadata": {
    "id": "Op3TiwMY3zc2"
   },
   "source": [
    "**- item_description**"
   ]
  },
  {
   "cell_type": "code",
   "execution_count": 12,
   "metadata": {
    "colab": {
     "base_uri": "https://localhost:8080/",
     "height": 310
    },
    "id": "TKhyiLA-35xS",
    "outputId": "53b1b51c-4b59-4ace-b2e9-aa10f8c9594e"
   },
   "outputs": [
    {
     "data": {
      "image/png": "[encoded data removed]",
      "text/plain": [
       "<Figure size 864x720 with 1 Axes>"
      ]
     },
     "metadata": {
      "needs_background": "light"
     },
     "output_type": "display_data"
    }
   ],
   "source": [
    "#from matplotlib import font_manager, rc\n",
    "#font_path = 'C:/Windows/Fonts./malgun.ttf'\n",
    "#font_name = font_manager.FontProperties(fname=font_path).get_name()\n",
    "#rc('font', family=font_name)\n",
    "\n",
    "word_counts = mercari_df['item_description'].str.split().str.len()\n",
    "plt.figure(figsize=(12,10))\n",
    "plt.subplot(211)\n",
    "ax = sns.distplot(word_counts, hist=False, label=\"Item Description Word Numbers\")\n",
    "h,l = ax.get_legend_handles_labels()\n",
    "ax.legend(h, l)\n",
    "plt.grid()\n",
    "plt.show()"
   ]
  },
  {
   "cell_type": "code",
   "execution_count": 13,
   "metadata": {
    "colab": {
     "base_uri": "https://localhost:8080/"
    },
    "id": "kml-rpE0tCHg",
    "outputId": "621764ff-4243-4bac-f547-da88d3ae7f7f"
   },
   "outputs": [
    {
     "name": "stdout",
     "output_type": "stream",
     "text": [
      "item_description 각 문자열의 평균 단어 개수 :  25.616758610878396\n"
     ]
    }
   ],
   "source": [
    "boolean_cond= mercari_df['item_description']=='No description yet'\n",
    "mercari_df[boolean_cond]['item_description'].count()\n",
    "print(\"item_description 각 문자열의 평균 단어 개수 : \", word_counts.mean())"
   ]
  },
  {
   "cell_type": "markdown",
   "metadata": {
    "id": "FblcsOAK4AvL"
   },
   "source": [
    "**- brand_name**"
   ]
  },
  {
   "cell_type": "code",
   "execution_count": 14,
   "metadata": {
    "colab": {
     "base_uri": "https://localhost:8080/",
     "height": 606
    },
    "id": "eTSF8A1i4EnI",
    "outputId": "dc315d3e-e749-4785-b0bf-74dff344eed4"
   },
   "outputs": [
    {
     "name": "stdout",
     "output_type": "stream",
     "text": [
      "brand_name의 고유값 수 :  2272\n"
     ]
    },
    {
     "data": {
      "text/plain": [
       "<matplotlib.axes._subplots.AxesSubplot at 0x7fdaf5b84cd0>"
      ]
     },
     "execution_count": 14,
     "metadata": {},
     "output_type": "execute_result"
    },
    {
     "data": {
      "image/png": "[encoded data removed]",
      "text/plain": [
       "<Figure size 1800x504 with 1 Axes>"
      ]
     },
     "metadata": {
      "needs_background": "light"
     },
     "output_type": "display_data"
    }
   ],
   "source": [
    "print(\"brand_name의 고유값 수 : \",len(list(mercari_df['brand_name'].unique())))\n",
    "mercari_df['brand_name'].value_counts()[1:30].plot(kind='bar', figsize=(25,7), title=\"Top 30 brand names\", fontsize=14)"
   ]
  },
  {
   "cell_type": "markdown",
   "metadata": {
    "id": "zHBc3RSz4iG-"
   },
   "source": [
    "**- category_name**\n"
   ]
  },
  {
   "cell_type": "code",
   "execution_count": 15,
   "metadata": {
    "colab": {
     "base_uri": "https://localhost:8080/",
     "height": 354
    },
    "id": "R7ceRKan4m0P",
    "outputId": "085c3d08-56cd-4380-a939-300b2583e960"
   },
   "outputs": [
    {
     "data": {
      "text/html": [
       "\n",
       "  <div id=\"df-a4015f21-6220-490c-8066-b43afb2826b3\">\n",
       "    <div class=\"colab-df-container\">\n",
       "      <div>\n",
       "<style scoped>\n",
       "    .dataframe tbody tr th:only-of-type {\n",
       "        vertical-align: middle;\n",
       "    }\n",
       "\n",
       "    .dataframe tbody tr th {\n",
       "        vertical-align: top;\n",
       "    }\n",
       "\n",
       "    .dataframe thead th {\n",
       "        text-align: right;\n",
       "    }\n",
       "</style>\n",
       "<table border=\"1\" class=\"dataframe\">\n",
       "  <thead>\n",
       "    <tr style=\"text-align: right;\">\n",
       "      <th></th>\n",
       "      <th>train_id</th>\n",
       "      <th>name</th>\n",
       "      <th>item_condition_id</th>\n",
       "      <th>category_name</th>\n",
       "      <th>brand_name</th>\n",
       "      <th>price</th>\n",
       "      <th>shipping</th>\n",
       "      <th>item_description</th>\n",
       "      <th>log_prices</th>\n",
       "      <th>cat_general</th>\n",
       "      <th>cat_sub1</th>\n",
       "      <th>cat_sub2</th>\n",
       "    </tr>\n",
       "  </thead>\n",
       "  <tbody>\n",
       "    <tr>\n",
       "      <th>0</th>\n",
       "      <td>0</td>\n",
       "      <td>MLB Cincinnati Reds T Shirt Size XL</td>\n",
       "      <td>3.0</td>\n",
       "      <td>Men/Tops/T-shirts</td>\n",
       "      <td>NaN</td>\n",
       "      <td>10.0</td>\n",
       "      <td>1.0</td>\n",
       "      <td>No description yet</td>\n",
       "      <td>2.302585</td>\n",
       "      <td>Men</td>\n",
       "      <td>Tops</td>\n",
       "      <td>T-shirts</td>\n",
       "    </tr>\n",
       "    <tr>\n",
       "      <th>1</th>\n",
       "      <td>1</td>\n",
       "      <td>Razer BlackWidow Chroma Keyboard</td>\n",
       "      <td>3.0</td>\n",
       "      <td>Electronics/Computers &amp; Tablets/Components &amp; P...</td>\n",
       "      <td>Razer</td>\n",
       "      <td>52.0</td>\n",
       "      <td>0.0</td>\n",
       "      <td>This keyboard is in great condition and works ...</td>\n",
       "      <td>3.951244</td>\n",
       "      <td>Electronics</td>\n",
       "      <td>Computers &amp; Tablets</td>\n",
       "      <td>Components &amp; Parts</td>\n",
       "    </tr>\n",
       "    <tr>\n",
       "      <th>2</th>\n",
       "      <td>2</td>\n",
       "      <td>AVA-VIV Blouse</td>\n",
       "      <td>1.0</td>\n",
       "      <td>Women/Tops &amp; Blouses/Blouse</td>\n",
       "      <td>Target</td>\n",
       "      <td>10.0</td>\n",
       "      <td>1.0</td>\n",
       "      <td>Adorable top with a hint of lace and a key hol...</td>\n",
       "      <td>2.302585</td>\n",
       "      <td>Women</td>\n",
       "      <td>Tops &amp; Blouses</td>\n",
       "      <td>Blouse</td>\n",
       "    </tr>\n",
       "    <tr>\n",
       "      <th>3</th>\n",
       "      <td>3</td>\n",
       "      <td>Leather Horse Statues</td>\n",
       "      <td>1.0</td>\n",
       "      <td>Home/Home Décor/Home Décor Accents</td>\n",
       "      <td>NaN</td>\n",
       "      <td>35.0</td>\n",
       "      <td>1.0</td>\n",
       "      <td>New with tags. Leather horses. Retail for [rm]...</td>\n",
       "      <td>3.555348</td>\n",
       "      <td>Home</td>\n",
       "      <td>Home Décor</td>\n",
       "      <td>Home Décor Accents</td>\n",
       "    </tr>\n",
       "    <tr>\n",
       "      <th>4</th>\n",
       "      <td>4</td>\n",
       "      <td>24K GOLD plated rose</td>\n",
       "      <td>1.0</td>\n",
       "      <td>Women/Jewelry/Necklaces</td>\n",
       "      <td>NaN</td>\n",
       "      <td>44.0</td>\n",
       "      <td>0.0</td>\n",
       "      <td>Complete with certificate of authenticity</td>\n",
       "      <td>3.784190</td>\n",
       "      <td>Women</td>\n",
       "      <td>Jewelry</td>\n",
       "      <td>Necklaces</td>\n",
       "    </tr>\n",
       "  </tbody>\n",
       "</table>\n",
       "</div>\n",
       "      <button class=\"colab-df-convert\" onclick=\"convertToInteractive('df-a4015f21-6220-490c-8066-b43afb2826b3')\"\n",
       "              title=\"Convert this dataframe to an interactive table.\"\n",
       "              style=\"display:none;\">\n",
       "        \n",
       "  <svg xmlns=\"http://www.w3.org/2000/svg\" height=\"24px\"viewBox=\"0 0 24 24\"\n",
       "       width=\"24px\">\n",
       "    <path d=\"M0 0h24v24H0V0z\" fill=\"none\"/>\n",
       "    <path d=\"M18.56 5.44l.94 2.06.94-2.06 2.06-.94-2.06-.94-.94-2.06-.94 2.06-2.06.94zm-11 1L8.5 8.5l.94-2.06 2.06-.94-2.06-.94L8.5 2.5l-.94 2.06-2.06.94zm10 10l.94 2.06.94-2.06 2.06-.94-2.06-.94-.94-2.06-.94 2.06-2.06.94z\"/><path d=\"M17.41 7.96l-1.37-1.37c-.4-.4-.92-.59-1.43-.59-.52 0-1.04.2-1.43.59L10.3 9.45l-7.72 7.72c-.78.78-.78 2.05 0 2.83L4 21.41c.39.39.9.59 1.41.59.51 0 1.02-.2 1.41-.59l7.78-7.78 2.81-2.81c.8-.78.8-2.07 0-2.86zM5.41 20L4 18.59l7.72-7.72 1.47 1.35L5.41 20z\"/>\n",
       "  </svg>\n",
       "      </button>\n",
       "      \n",
       "  <style>\n",
       "    .colab-df-container {\n",
       "      display:flex;\n",
       "      flex-wrap:wrap;\n",
       "      gap: 12px;\n",
       "    }\n",
       "\n",
       "    .colab-df-convert {\n",
       "      background-color: #E8F0FE;\n",
       "      border: none;\n",
       "      border-radius: 50%;\n",
       "      cursor: pointer;\n",
       "      display: none;\n",
       "      fill: #1967D2;\n",
       "      height: 32px;\n",
       "      padding: 0 0 0 0;\n",
       "      width: 32px;\n",
       "    }\n",
       "\n",
       "    .colab-df-convert:hover {\n",
       "      background-color: #E2EBFA;\n",
       "      box-shadow: 0px 1px 2px rgba(60, 64, 67, 0.3), 0px 1px 3px 1px rgba(60, 64, 67, 0.15);\n",
       "      fill: #174EA6;\n",
       "    }\n",
       "\n",
       "    [theme=dark] .colab-df-convert {\n",
       "      background-color: #3B4455;\n",
       "      fill: #D2E3FC;\n",
       "    }\n",
       "\n",
       "    [theme=dark] .colab-df-convert:hover {\n",
       "      background-color: #434B5C;\n",
       "      box-shadow: 0px 1px 3px 1px rgba(0, 0, 0, 0.15);\n",
       "      filter: drop-shadow(0px 1px 2px rgba(0, 0, 0, 0.3));\n",
       "      fill: #FFFFFF;\n",
       "    }\n",
       "  </style>\n",
       "\n",
       "      <script>\n",
       "        const buttonEl =\n",
       "          document.querySelector('#df-a4015f21-6220-490c-8066-b43afb2826b3 button.colab-df-convert');\n",
       "        buttonEl.style.display =\n",
       "          google.colab.kernel.accessAllowed ? 'block' : 'none';\n",
       "\n",
       "        async function convertToInteractive(key) {\n",
       "          const element = document.querySelector('#df-a4015f21-6220-490c-8066-b43afb2826b3');\n",
       "          const dataTable =\n",
       "            await google.colab.kernel.invokeFunction('convertToInteractive',\n",
       "                                                     [key], {});\n",
       "          if (!dataTable) return;\n",
       "\n",
       "          const docLinkHtml = 'Like what you see? Visit the ' +\n",
       "            '<a target=\"_blank\" href=https://colab.research.google.com/notebooks/data_table.ipynb>data table notebook</a>'\n",
       "            + ' to learn more about interactive tables.';\n",
       "          element.innerHTML = '';\n",
       "          dataTable['output_type'] = 'display_data';\n",
       "          await google.colab.output.renderOutput(dataTable, element);\n",
       "          const docLink = document.createElement('div');\n",
       "          docLink.innerHTML = docLinkHtml;\n",
       "          element.appendChild(docLink);\n",
       "        }\n",
       "      </script>\n",
       "    </div>\n",
       "  </div>\n",
       "  "
      ],
      "text/plain": [
       "   train_id                                 name  item_condition_id  \\\n",
       "0         0  MLB Cincinnati Reds T Shirt Size XL                3.0   \n",
       "1         1     Razer BlackWidow Chroma Keyboard                3.0   \n",
       "2         2                       AVA-VIV Blouse                1.0   \n",
       "3         3                Leather Horse Statues                1.0   \n",
       "4         4                 24K GOLD plated rose                1.0   \n",
       "\n",
       "                                       category_name brand_name  price  \\\n",
       "0                                  Men/Tops/T-shirts        NaN   10.0   \n",
       "1  Electronics/Computers & Tablets/Components & P...      Razer   52.0   \n",
       "2                        Women/Tops & Blouses/Blouse     Target   10.0   \n",
       "3                 Home/Home Décor/Home Décor Accents        NaN   35.0   \n",
       "4                            Women/Jewelry/Necklaces        NaN   44.0   \n",
       "\n",
       "   shipping                                   item_description  log_prices  \\\n",
       "0       1.0                                 No description yet    2.302585   \n",
       "1       0.0  This keyboard is in great condition and works ...    3.951244   \n",
       "2       1.0  Adorable top with a hint of lace and a key hol...    2.302585   \n",
       "3       1.0  New with tags. Leather horses. Retail for [rm]...    3.555348   \n",
       "4       0.0          Complete with certificate of authenticity    3.784190   \n",
       "\n",
       "   cat_general             cat_sub1            cat_sub2  \n",
       "0          Men                 Tops            T-shirts  \n",
       "1  Electronics  Computers & Tablets  Components & Parts  \n",
       "2        Women       Tops & Blouses              Blouse  \n",
       "3         Home           Home Décor  Home Décor Accents  \n",
       "4        Women              Jewelry           Necklaces  "
      ]
     },
     "execution_count": 15,
     "metadata": {},
     "output_type": "execute_result"
    }
   ],
   "source": [
    "def split_cat(text):\n",
    "    \"\"\"\n",
    "    This function separated the categories into its three parts. Main category, sub-category 1 and sub-category 2\n",
    "    \"\"\"\n",
    "    try: \n",
    "        return text.split(\"/\")\n",
    "    except: \n",
    "        return (\"No Label\", \"No Label\", \"No Label\")\n",
    "\n",
    "mercari_df['cat_general'], mercari_df['cat_sub1'], mercari_df['cat_sub2'] = zip(*mercari_df['category_name'].apply(lambda x: split_cat(x)))\n",
    "mercari_df.head()"
   ]
  },
  {
   "cell_type": "code",
   "execution_count": 16,
   "metadata": {
    "colab": {
     "base_uri": "https://localhost:8080/"
    },
    "id": "Xi-RtnmO43X7",
    "outputId": "ed015fe9-ee53-409e-a40f-4d6ea4775ee8"
   },
   "outputs": [
    {
     "name": "stdout",
     "output_type": "stream",
     "text": [
      "대분류의 고유값 수:  11\n",
      "중분류의 고유값 수:  112\n",
      "소분류의 고유값 수:  719\n"
     ]
    }
   ],
   "source": [
    "print(\"대분류의 고유값 수: \",mercari_df['cat_general'].nunique())\n",
    "print(\"중분류의 고유값 수: \",mercari_df['cat_sub1'].nunique())\n",
    "print(\"소분류의 고유값 수: \",mercari_df['cat_sub2'].nunique())"
   ]
  },
  {
   "cell_type": "markdown",
   "metadata": {
    "id": "oToYC-vg4-pq"
   },
   "source": [
    "**대분류**"
   ]
  },
  {
   "cell_type": "code",
   "execution_count": 17,
   "metadata": {
    "colab": {
     "base_uri": "https://localhost:8080/"
    },
    "id": "YcgyyseF433y",
    "outputId": "553f9d84-d263-4b61-b9ed-cfc9403b3eec"
   },
   "outputs": [
    {
     "data": {
      "text/plain": [
       "Women                     57448\n",
       "Beauty                    17718\n",
       "Kids                      14635\n",
       "Electronics               10353\n",
       "Men                        8135\n",
       "Home                       5799\n",
       "Vintage & Collectibles     3766\n",
       "Other                      3741\n",
       "Handmade                   2285\n",
       "Sports & Outdoors          2140\n",
       "No Label                    506\n",
       "Name: cat_general, dtype: int64"
      ]
     },
     "execution_count": 17,
     "metadata": {},
     "output_type": "execute_result"
    }
   ],
   "source": [
    "mercari_df['cat_general'].value_counts()"
   ]
  },
  {
   "cell_type": "code",
   "execution_count": 18,
   "metadata": {
    "colab": {
     "base_uri": "https://localhost:8080/",
     "height": 618
    },
    "id": "D8qhJi0946n8",
    "outputId": "a5855da3-0e0f-43d8-f0f2-4774fd711a4b"
   },
   "outputs": [
    {
     "data": {
      "text/plain": [
       "<matplotlib.axes._subplots.AxesSubplot at 0x7fdaf39402d0>"
      ]
     },
     "execution_count": 18,
     "metadata": {},
     "output_type": "execute_result"
    },
    {
     "data": {
      "image/png": "[encoded data removed]",
      "text/plain": [
       "<Figure size 1008x504 with 1 Axes>"
      ]
     },
     "metadata": {
      "needs_background": "light"
     },
     "output_type": "display_data"
    }
   ],
   "source": [
    "mercari_df['cat_general'].value_counts().plot(kind='bar', figsize=(14,7), title=\"Top main categories\", fontsize=15)"
   ]
  },
  {
   "cell_type": "markdown",
   "metadata": {
    "id": "9uYCKFi75CIR"
   },
   "source": [
    "**중분류**"
   ]
  },
  {
   "cell_type": "code",
   "execution_count": 19,
   "metadata": {
    "colab": {
     "base_uri": "https://localhost:8080/",
     "height": 645
    },
    "id": "7WT4W99i5E4-",
    "outputId": "9f871dfd-837a-4beb-ea79-fe5ae5a0be0d"
   },
   "outputs": [
    {
     "data": {
      "text/plain": [
       "<matplotlib.axes._subplots.AxesSubplot at 0x7fdae7fbd550>"
      ]
     },
     "execution_count": 19,
     "metadata": {},
     "output_type": "execute_result"
    },
    {
     "data": {
      "image/png": "[encoded data removed]",
      "text/plain": [
       "<Figure size 1800x504 with 1 Axes>"
      ]
     },
     "metadata": {
      "needs_background": "light"
     },
     "output_type": "display_data"
    }
   ],
   "source": [
    "mercari_df['cat_sub1'].value_counts()[:20].plot(kind='bar', figsize=(25,7), title=\"Top 20 cat_sub1\", fontsize=15)"
   ]
  },
  {
   "cell_type": "markdown",
   "metadata": {
    "id": "tDNipmHf5Kg4"
   },
   "source": [
    "**소분류**"
   ]
  },
  {
   "cell_type": "code",
   "execution_count": 20,
   "metadata": {
    "colab": {
     "base_uri": "https://localhost:8080/",
     "height": 625
    },
    "id": "z6qkZYR35LOB",
    "outputId": "6938561f-733d-4189-9edf-9c50062b236d"
   },
   "outputs": [
    {
     "data": {
      "text/plain": [
       "<matplotlib.axes._subplots.AxesSubplot at 0x7fdae802bcd0>"
      ]
     },
     "execution_count": 20,
     "metadata": {},
     "output_type": "execute_result"
    },
    {
     "data": {
      "image/png": "[encoded data removed]",
      "text/plain": [
       "<Figure size 1800x504 with 1 Axes>"
      ]
     },
     "metadata": {
      "needs_background": "light"
     },
     "output_type": "display_data"
    }
   ],
   "source": [
    "mercari_df['cat_sub2'].value_counts()[:20].plot(kind='bar', figsize=(25,7), title=\"Top 20 cat_sub2\", fontsize=15)"
   ]
  },
  {
   "cell_type": "markdown",
   "metadata": {
    "id": "sdV9OvOG5O0R"
   },
   "source": [
    "target variable인 price 피처와 item_condition / shipping 간의 상관관계"
   ]
  },
  {
   "cell_type": "code",
   "execution_count": 21,
   "metadata": {
    "colab": {
     "base_uri": "https://localhost:8080/"
    },
    "id": "EBQvSPD95h2Y",
    "outputId": "62322a5e-7b74-44fa-b8a3-b97357ff49f6"
   },
   "outputs": [
    {
     "name": "stdout",
     "output_type": "stream",
     "text": [
      "item_condition -> log_prices correlation= -0.018966066614108094\n",
      "shipping -> log_prices correlation=    -0.1956295030077792\n"
     ]
    }
   ],
   "source": [
    "from scipy.stats import pointbiserialr\n",
    "pbc_condition = pointbiserialr(mercari_df['item_condition_id'], mercari_df['log_prices'])\n",
    "pbc_shipping = pointbiserialr(mercari_df['shipping'], mercari_df['log_prices'])\n",
    "print(\"item_condition -> log_prices correlation=\", pbc_condition[0])\n",
    "print(\"shipping -> log_prices correlation=   \", pbc_shipping[0])"
   ]
  },
  {
   "cell_type": "markdown",
   "metadata": {
    "id": "3ul2IYZptCHb"
   },
   "source": [
    "### [3] 데이터 전처리"
   ]
  },
  {
   "cell_type": "markdown",
   "metadata": {
    "id": "iJBPt5xJm5d7"
   },
   "source": [
    "**1) 주어진 데이터프레임에서 train_id 버리기**"
   ]
  },
  {
   "cell_type": "code",
   "execution_count": 22,
   "metadata": {
    "colab": {
     "base_uri": "https://localhost:8080/",
     "height": 337
    },
    "id": "Lkedv_NQtCHd",
    "outputId": "054578db-04d5-4883-e4f0-56b27b85ba9b"
   },
   "outputs": [
    {
     "data": {
      "text/html": [
       "\n",
       "  <div id=\"df-f6c0a9b5-7fba-427a-8805-91ca918bcd8a\">\n",
       "    <div class=\"colab-df-container\">\n",
       "      <div>\n",
       "<style scoped>\n",
       "    .dataframe tbody tr th:only-of-type {\n",
       "        vertical-align: middle;\n",
       "    }\n",
       "\n",
       "    .dataframe tbody tr th {\n",
       "        vertical-align: top;\n",
       "    }\n",
       "\n",
       "    .dataframe thead th {\n",
       "        text-align: right;\n",
       "    }\n",
       "</style>\n",
       "<table border=\"1\" class=\"dataframe\">\n",
       "  <thead>\n",
       "    <tr style=\"text-align: right;\">\n",
       "      <th></th>\n",
       "      <th>name</th>\n",
       "      <th>item_condition_id</th>\n",
       "      <th>category_name</th>\n",
       "      <th>brand_name</th>\n",
       "      <th>price</th>\n",
       "      <th>shipping</th>\n",
       "      <th>item_description</th>\n",
       "      <th>log_prices</th>\n",
       "      <th>cat_general</th>\n",
       "      <th>cat_sub1</th>\n",
       "      <th>cat_sub2</th>\n",
       "    </tr>\n",
       "  </thead>\n",
       "  <tbody>\n",
       "    <tr>\n",
       "      <th>0</th>\n",
       "      <td>MLB Cincinnati Reds T Shirt Size XL</td>\n",
       "      <td>3.0</td>\n",
       "      <td>Men/Tops/T-shirts</td>\n",
       "      <td>NaN</td>\n",
       "      <td>10.0</td>\n",
       "      <td>1.0</td>\n",
       "      <td>No description yet</td>\n",
       "      <td>2.302585</td>\n",
       "      <td>Men</td>\n",
       "      <td>Tops</td>\n",
       "      <td>T-shirts</td>\n",
       "    </tr>\n",
       "    <tr>\n",
       "      <th>1</th>\n",
       "      <td>Razer BlackWidow Chroma Keyboard</td>\n",
       "      <td>3.0</td>\n",
       "      <td>Electronics/Computers &amp; Tablets/Components &amp; P...</td>\n",
       "      <td>Razer</td>\n",
       "      <td>52.0</td>\n",
       "      <td>0.0</td>\n",
       "      <td>This keyboard is in great condition and works ...</td>\n",
       "      <td>3.951244</td>\n",
       "      <td>Electronics</td>\n",
       "      <td>Computers &amp; Tablets</td>\n",
       "      <td>Components &amp; Parts</td>\n",
       "    </tr>\n",
       "    <tr>\n",
       "      <th>2</th>\n",
       "      <td>AVA-VIV Blouse</td>\n",
       "      <td>1.0</td>\n",
       "      <td>Women/Tops &amp; Blouses/Blouse</td>\n",
       "      <td>Target</td>\n",
       "      <td>10.0</td>\n",
       "      <td>1.0</td>\n",
       "      <td>Adorable top with a hint of lace and a key hol...</td>\n",
       "      <td>2.302585</td>\n",
       "      <td>Women</td>\n",
       "      <td>Tops &amp; Blouses</td>\n",
       "      <td>Blouse</td>\n",
       "    </tr>\n",
       "    <tr>\n",
       "      <th>3</th>\n",
       "      <td>Leather Horse Statues</td>\n",
       "      <td>1.0</td>\n",
       "      <td>Home/Home Décor/Home Décor Accents</td>\n",
       "      <td>NaN</td>\n",
       "      <td>35.0</td>\n",
       "      <td>1.0</td>\n",
       "      <td>New with tags. Leather horses. Retail for [rm]...</td>\n",
       "      <td>3.555348</td>\n",
       "      <td>Home</td>\n",
       "      <td>Home Décor</td>\n",
       "      <td>Home Décor Accents</td>\n",
       "    </tr>\n",
       "    <tr>\n",
       "      <th>4</th>\n",
       "      <td>24K GOLD plated rose</td>\n",
       "      <td>1.0</td>\n",
       "      <td>Women/Jewelry/Necklaces</td>\n",
       "      <td>NaN</td>\n",
       "      <td>44.0</td>\n",
       "      <td>0.0</td>\n",
       "      <td>Complete with certificate of authenticity</td>\n",
       "      <td>3.784190</td>\n",
       "      <td>Women</td>\n",
       "      <td>Jewelry</td>\n",
       "      <td>Necklaces</td>\n",
       "    </tr>\n",
       "  </tbody>\n",
       "</table>\n",
       "</div>\n",
       "      <button class=\"colab-df-convert\" onclick=\"convertToInteractive('df-f6c0a9b5-7fba-427a-8805-91ca918bcd8a')\"\n",
       "              title=\"Convert this dataframe to an interactive table.\"\n",
       "              style=\"display:none;\">\n",
       "        \n",
       "  <svg xmlns=\"http://www.w3.org/2000/svg\" height=\"24px\"viewBox=\"0 0 24 24\"\n",
       "       width=\"24px\">\n",
       "    <path d=\"M0 0h24v24H0V0z\" fill=\"none\"/>\n",
       "    <path d=\"M18.56 5.44l.94 2.06.94-2.06 2.06-.94-2.06-.94-.94-2.06-.94 2.06-2.06.94zm-11 1L8.5 8.5l.94-2.06 2.06-.94-2.06-.94L8.5 2.5l-.94 2.06-2.06.94zm10 10l.94 2.06.94-2.06 2.06-.94-2.06-.94-.94-2.06-.94 2.06-2.06.94z\"/><path d=\"M17.41 7.96l-1.37-1.37c-.4-.4-.92-.59-1.43-.59-.52 0-1.04.2-1.43.59L10.3 9.45l-7.72 7.72c-.78.78-.78 2.05 0 2.83L4 21.41c.39.39.9.59 1.41.59.51 0 1.02-.2 1.41-.59l7.78-7.78 2.81-2.81c.8-.78.8-2.07 0-2.86zM5.41 20L4 18.59l7.72-7.72 1.47 1.35L5.41 20z\"/>\n",
       "  </svg>\n",
       "      </button>\n",
       "      \n",
       "  <style>\n",
       "    .colab-df-container {\n",
       "      display:flex;\n",
       "      flex-wrap:wrap;\n",
       "      gap: 12px;\n",
       "    }\n",
       "\n",
       "    .colab-df-convert {\n",
       "      background-color: #E8F0FE;\n",
       "      border: none;\n",
       "      border-radius: 50%;\n",
       "      cursor: pointer;\n",
       "      display: none;\n",
       "      fill: #1967D2;\n",
       "      height: 32px;\n",
       "      padding: 0 0 0 0;\n",
       "      width: 32px;\n",
       "    }\n",
       "\n",
       "    .colab-df-convert:hover {\n",
       "      background-color: #E2EBFA;\n",
       "      box-shadow: 0px 1px 2px rgba(60, 64, 67, 0.3), 0px 1px 3px 1px rgba(60, 64, 67, 0.15);\n",
       "      fill: #174EA6;\n",
       "    }\n",
       "\n",
       "    [theme=dark] .colab-df-convert {\n",
       "      background-color: #3B4455;\n",
       "      fill: #D2E3FC;\n",
       "    }\n",
       "\n",
       "    [theme=dark] .colab-df-convert:hover {\n",
       "      background-color: #434B5C;\n",
       "      box-shadow: 0px 1px 3px 1px rgba(0, 0, 0, 0.15);\n",
       "      filter: drop-shadow(0px 1px 2px rgba(0, 0, 0, 0.3));\n",
       "      fill: #FFFFFF;\n",
       "    }\n",
       "  </style>\n",
       "\n",
       "      <script>\n",
       "        const buttonEl =\n",
       "          document.querySelector('#df-f6c0a9b5-7fba-427a-8805-91ca918bcd8a button.colab-df-convert');\n",
       "        buttonEl.style.display =\n",
       "          google.colab.kernel.accessAllowed ? 'block' : 'none';\n",
       "\n",
       "        async function convertToInteractive(key) {\n",
       "          const element = document.querySelector('#df-f6c0a9b5-7fba-427a-8805-91ca918bcd8a');\n",
       "          const dataTable =\n",
       "            await google.colab.kernel.invokeFunction('convertToInteractive',\n",
       "                                                     [key], {});\n",
       "          if (!dataTable) return;\n",
       "\n",
       "          const docLinkHtml = 'Like what you see? Visit the ' +\n",
       "            '<a target=\"_blank\" href=https://colab.research.google.com/notebooks/data_table.ipynb>data table notebook</a>'\n",
       "            + ' to learn more about interactive tables.';\n",
       "          element.innerHTML = '';\n",
       "          dataTable['output_type'] = 'display_data';\n",
       "          await google.colab.output.renderOutput(dataTable, element);\n",
       "          const docLink = document.createElement('div');\n",
       "          docLink.innerHTML = docLinkHtml;\n",
       "          element.appendChild(docLink);\n",
       "        }\n",
       "      </script>\n",
       "    </div>\n",
       "  </div>\n",
       "  "
      ],
      "text/plain": [
       "                                  name  item_condition_id  \\\n",
       "0  MLB Cincinnati Reds T Shirt Size XL                3.0   \n",
       "1     Razer BlackWidow Chroma Keyboard                3.0   \n",
       "2                       AVA-VIV Blouse                1.0   \n",
       "3                Leather Horse Statues                1.0   \n",
       "4                 24K GOLD plated rose                1.0   \n",
       "\n",
       "                                       category_name brand_name  price  \\\n",
       "0                                  Men/Tops/T-shirts        NaN   10.0   \n",
       "1  Electronics/Computers & Tablets/Components & P...      Razer   52.0   \n",
       "2                        Women/Tops & Blouses/Blouse     Target   10.0   \n",
       "3                 Home/Home Décor/Home Décor Accents        NaN   35.0   \n",
       "4                            Women/Jewelry/Necklaces        NaN   44.0   \n",
       "\n",
       "   shipping                                   item_description  log_prices  \\\n",
       "0       1.0                                 No description yet    2.302585   \n",
       "1       0.0  This keyboard is in great condition and works ...    3.951244   \n",
       "2       1.0  Adorable top with a hint of lace and a key hol...    2.302585   \n",
       "3       1.0  New with tags. Leather horses. Retail for [rm]...    3.555348   \n",
       "4       0.0          Complete with certificate of authenticity    3.784190   \n",
       "\n",
       "   cat_general             cat_sub1            cat_sub2  \n",
       "0          Men                 Tops            T-shirts  \n",
       "1  Electronics  Computers & Tablets  Components & Parts  \n",
       "2        Women       Tops & Blouses              Blouse  \n",
       "3         Home           Home Décor  Home Décor Accents  \n",
       "4        Women              Jewelry           Necklaces  "
      ]
     },
     "execution_count": 22,
     "metadata": {},
     "output_type": "execute_result"
    }
   ],
   "source": [
    "mercari_df.drop('train_id', axis=1, inplace=True); mercari_df.head()"
   ]
  },
  {
   "cell_type": "markdown",
   "metadata": {
    "id": "YhmX8y2EtCHd"
   },
   "source": [
    "**2) Price 값의 분포도 확인**\n",
    "\n",
    "- **로그 변환 이전**"
   ]
  },
  {
   "cell_type": "code",
   "execution_count": 23,
   "metadata": {
    "colab": {
     "base_uri": "https://localhost:8080/",
     "height": 297
    },
    "id": "uBwAMKlrtCHe",
    "outputId": "14557cdb-b7e3-4241-fb9e-f7f9266e2c4b"
   },
   "outputs": [
    {
     "data": {
      "text/plain": [
       "<matplotlib.axes._subplots.AxesSubplot at 0x7fdaf45396d0>"
      ]
     },
     "execution_count": 23,
     "metadata": {},
     "output_type": "execute_result"
    },
    {
     "data": {
      "image/png": "[encoded data removed]",
      "text/plain": [
       "<Figure size 432x288 with 1 Axes>"
      ]
     },
     "metadata": {
      "needs_background": "light"
     },
     "output_type": "display_data"
    }
   ],
   "source": [
    "import matplotlib.pyplot as plt\n",
    "import seaborn as sns\n",
    "%matplotlib inline\n",
    "\n",
    "y_train_df = mercari_df['price']\n",
    "sns.distplot(y_train_df,kde=False)"
   ]
  },
  {
   "cell_type": "markdown",
   "metadata": {
    "id": "pWbJW_SrtCHe"
   },
   "source": [
    "- **로그 변환 이후**"
   ]
  },
  {
   "cell_type": "code",
   "execution_count": 24,
   "metadata": {
    "colab": {
     "base_uri": "https://localhost:8080/",
     "height": 297
    },
    "id": "dco7WB3UtCHf",
    "outputId": "19eaea72-21dc-4958-93df-4a3545abfa3f"
   },
   "outputs": [
    {
     "data": {
      "text/plain": [
       "<matplotlib.axes._subplots.AxesSubplot at 0x7fdaf37f5ed0>"
      ]
     },
     "execution_count": 24,
     "metadata": {},
     "output_type": "execute_result"
    },
    {
     "data": {
      "image/png": "[encoded data removed]",
      "text/plain": [
       "<Figure size 432x288 with 1 Axes>"
      ]
     },
     "metadata": {
      "needs_background": "light"
     },
     "output_type": "display_data"
    }
   ],
   "source": [
    "import numpy as np\n",
    "\n",
    "y_train_df = np.log1p(y_train_df)\n",
    "sns.distplot(y_train_df,kde=False)\n"
   ]
  },
  {
   "cell_type": "code",
   "execution_count": 25,
   "metadata": {
    "colab": {
     "base_uri": "https://localhost:8080/"
    },
    "id": "1eSEetcftCHf",
    "outputId": "8db7b6d6-72dc-498f-ca73-79f2765e7f0c"
   },
   "outputs": [
    {
     "data": {
      "text/plain": [
       "0    2.397895\n",
       "1    3.970292\n",
       "2    2.397895\n",
       "Name: price, dtype: float64"
      ]
     },
     "execution_count": 25,
     "metadata": {},
     "output_type": "execute_result"
    }
   ],
   "source": [
    "#로그 변환된 값 확인\n",
    "mercari_df['price'] = np.log1p(mercari_df['price'])\n",
    "mercari_df['price'].head(3)"
   ]
  },
  {
   "cell_type": "markdown",
   "metadata": {
    "id": "7T85VssNtCHg"
   },
   "source": [
    "**3) category_name을 개별 컬럼들로 재생성**"
   ]
  },
  {
   "cell_type": "code",
   "execution_count": 26,
   "metadata": {
    "id": "LTlFx-ZDtCHh"
   },
   "outputs": [],
   "source": [
    "def split(category_name):\n",
    "    try:\n",
    "        return category_name.split('/')\n",
    "    except:\n",
    "        return ['Null' , 'Null' , 'Null']"
   ]
  },
  {
   "cell_type": "code",
   "execution_count": 27,
   "metadata": {
    "id": "JZUzZUmdg6jF"
   },
   "outputs": [],
   "source": [
    "cat_general, cat_sub1, cat_sub2 = zip(*mercari_df['category_name'].apply(lambda x : split(x)))\n",
    "mercari_df[\"cat_general\"] = cat_general\n",
    "mercari_df[\"cat_sub1\"] = cat_sub1\n",
    "mercari_df[\"cat_sub2\"] = cat_sub2"
   ]
  },
  {
   "cell_type": "code",
   "execution_count": 28,
   "metadata": {
    "colab": {
     "base_uri": "https://localhost:8080/"
    },
    "id": "HSlOUIwYz1w8",
    "outputId": "7bfa6d54-6997-4f15-c873-4bf07cc32e63"
   },
   "outputs": [
    {
     "name": "stdout",
     "output_type": "stream",
     "text": [
      "대분류 갯수 : 112\n",
      "대분류 유형 :\n",
      " Women                     57448\n",
      "Beauty                    17718\n",
      "Kids                      14635\n",
      "Electronics               10353\n",
      "Men                        8135\n",
      "Home                       5799\n",
      "Vintage & Collectibles     3766\n",
      "Other                      3741\n",
      "Handmade                   2285\n",
      "Sports & Outdoors          2140\n",
      "Null                        506\n",
      "Name: cat_general, dtype: int64\n"
     ]
    }
   ],
   "source": [
    "#카테고리별 갯수, 유형 확인\n",
    "print('대분류 갯수 :', mercari_df['cat_sub1'].nunique())\n",
    "print('대분류 유형 :\\n', mercari_df['cat_general'].value_counts())"
   ]
  },
  {
   "cell_type": "code",
   "execution_count": 29,
   "metadata": {
    "colab": {
     "base_uri": "https://localhost:8080/"
    },
    "id": "vB6ttx59z6AZ",
    "outputId": "b47d5b28-558e-4347-9233-b5f135d9b61b"
   },
   "outputs": [
    {
     "name": "stdout",
     "output_type": "stream",
     "text": [
      "중분류 갯수 : 112\n"
     ]
    }
   ],
   "source": [
    "print('중분류 갯수 :', mercari_df['cat_sub1'].nunique())"
   ]
  },
  {
   "cell_type": "code",
   "execution_count": 30,
   "metadata": {
    "colab": {
     "base_uri": "https://localhost:8080/"
    },
    "id": "RJYBBqAAz6uL",
    "outputId": "05fdbd1a-4fe3-47ac-e88f-16a07fd0d29e"
   },
   "outputs": [
    {
     "name": "stdout",
     "output_type": "stream",
     "text": [
      "소분류 갯수 : 719\n"
     ]
    }
   ],
   "source": [
    "print('소분류 갯수 :', mercari_df['cat_sub2'].nunique())"
   ]
  },
  {
   "cell_type": "markdown",
   "metadata": {
    "id": "gyAPuMCntCHi"
   },
   "source": [
    "**4) 결측치 처리**"
   ]
  },
  {
   "cell_type": "code",
   "execution_count": 31,
   "metadata": {
    "id": "6ET4XcsftCHj"
   },
   "outputs": [],
   "source": [
    "mercari_df['brand_name'] = mercari_df['brand_name'].fillna(value='Null')\n",
    "mercari_df['category_name'] = mercari_df['category_name'].fillna(value='Null')\n",
    "mercari_df['item_description'] = mercari_df['item_description'].fillna(value='Null')"
   ]
  },
  {
   "cell_type": "code",
   "execution_count": 32,
   "metadata": {
    "colab": {
     "base_uri": "https://localhost:8080/"
    },
    "id": "sDaJbZVkQOkY",
    "outputId": "78eb9f96-a6b6-44a7-c5f1-f25f556a0206"
   },
   "outputs": [
    {
     "data": {
      "text/plain": [
       "name                 0\n",
       "item_condition_id    0\n",
       "category_name        0\n",
       "brand_name           0\n",
       "price                0\n",
       "shipping             0\n",
       "item_description     0\n",
       "log_prices           0\n",
       "cat_general          0\n",
       "cat_sub1             0\n",
       "cat_sub2             0\n",
       "dtype: int64"
      ]
     },
     "execution_count": 32,
     "metadata": {},
     "output_type": "execute_result"
    }
   ],
   "source": [
    "mercari_df.isnull().sum()"
   ]
  },
  {
   "cell_type": "code",
   "execution_count": 33,
   "metadata": {
    "colab": {
     "base_uri": "https://localhost:8080/"
    },
    "id": "WO1BztDmtCHj",
    "outputId": "80067ebb-0530-4997-d7d9-f7ca6c4db99f"
   },
   "outputs": [
    {
     "name": "stdout",
     "output_type": "stream",
     "text": [
      "<class 'pandas.core.frame.DataFrame'>\n",
      "Int64Index: 126526 entries, 0 to 129710\n",
      "Data columns (total 11 columns):\n",
      " #   Column             Non-Null Count   Dtype  \n",
      "---  ------             --------------   -----  \n",
      " 0   name               126526 non-null  object \n",
      " 1   item_condition_id  126526 non-null  float64\n",
      " 2   category_name      126526 non-null  object \n",
      " 3   brand_name         126526 non-null  object \n",
      " 4   price              126526 non-null  float64\n",
      " 5   shipping           126526 non-null  float64\n",
      " 6   item_description   126526 non-null  object \n",
      " 7   log_prices         126526 non-null  float64\n",
      " 8   cat_general        126526 non-null  object \n",
      " 9   cat_sub1           126526 non-null  object \n",
      " 10  cat_sub2           126526 non-null  object \n",
      "dtypes: float64(4), object(7)\n",
      "memory usage: 11.6+ MB\n"
     ]
    }
   ],
   "source": [
    "mercari_df.info()"
   ]
  },
  {
   "cell_type": "code",
   "execution_count": 34,
   "metadata": {
    "colab": {
     "base_uri": "https://localhost:8080/",
     "height": 72
    },
    "id": "hQRsUWToN1uW",
    "outputId": "6914402b-4757-4086-d4a2-cf12b51ceeb9"
   },
   "outputs": [
    {
     "data": {
      "application/vnd.google.colaboratory.intrinsic+json": {
       "type": "string"
      },
      "text/plain": [
       "'from wordcloud import WordCloud\\nfrom collections import Counter\\ncat_desc = dict()\\nfor cat in general_cats: \\n    text = \" \".join(mercari_df.loc[mercari_df[\\'general_cat\\']==cat, \\'item_description\\'].values)\\n    cat_desc[cat] = tokenize(text)\\n\\n\\n# find the most common words for the top 4 categories\\nwomen100 = Counter(cat_desc[\\'Women\\']).most_common(100)\\nbeauty100 = Counter(cat_desc[\\'Beauty\\']).most_common(100)\\nkids100 = Counter(cat_desc[\\'Kids\\']).most_common(100)\\nelectronics100 = Counter(cat_desc[\\'Electronics\\']).most_common(100)\\n'"
      ]
     },
     "execution_count": 34,
     "metadata": {},
     "output_type": "execute_result"
    }
   ],
   "source": [
    "'''from wordcloud import WordCloud\n",
    "from collections import Counter\n",
    "cat_desc = dict()\n",
    "for cat in general_cats: \n",
    "    text = \" \".join(mercari_df.loc[mercari_df['general_cat']==cat, 'item_description'].values)\n",
    "    cat_desc[cat] = tokenize(text)\n",
    "\n",
    "\n",
    "# find the most common words for the top 4 categories\n",
    "women100 = Counter(cat_desc['Women']).most_common(100)\n",
    "beauty100 = Counter(cat_desc['Beauty']).most_common(100)\n",
    "kids100 = Counter(cat_desc['Kids']).most_common(100)\n",
    "electronics100 = Counter(cat_desc['Electronics']).most_common(100)\n",
    "'''"
   ]
  },
  {
   "cell_type": "markdown",
   "metadata": {
    "id": "4LPJVP9ftCHj"
   },
   "source": [
    "### 피처 인코딩과 피처 벡터화"
   ]
  },
  {
   "cell_type": "code",
   "execution_count": 35,
   "metadata": {
    "colab": {
     "base_uri": "https://localhost:8080/"
    },
    "id": "V4Q66nXktCHj",
    "outputId": "d7c54909-2fd8-4d36-9eac-1dcd53b62a01"
   },
   "outputs": [
    {
     "name": "stdout",
     "output_type": "stream",
     "text": [
      "brand name 의 유형 건수 : 2272\n",
      "brand name sample 5건 : \n",
      " Null                 53234\n",
      "PINK                  4813\n",
      "Nike                  4688\n",
      "Victoria's Secret     4136\n",
      "LuLaRoe               2722\n",
      "Name: brand_name, dtype: int64\n"
     ]
    }
   ],
   "source": [
    "print('brand name 의 유형 건수 :', mercari_df['brand_name'].nunique())\n",
    "print('brand name sample 5건 : \\n', mercari_df['brand_name'].value_counts()[:5])"
   ]
  },
  {
   "cell_type": "code",
   "execution_count": 36,
   "metadata": {
    "colab": {
     "base_uri": "https://localhost:8080/"
    },
    "id": "gk3wWy9BtCHk",
    "outputId": "01faf452-8983-43b2-eb28-cd6e4d2ebfbe"
   },
   "outputs": [
    {
     "name": "stdout",
     "output_type": "stream",
     "text": [
      "name 의 종류 갯수 : 117985\n",
      "name sample 7건 : \n",
      " 0    MLB Cincinnati Reds T Shirt Size XL\n",
      "1       Razer BlackWidow Chroma Keyboard\n",
      "2                         AVA-VIV Blouse\n",
      "3                  Leather Horse Statues\n",
      "4                   24K GOLD plated rose\n",
      "5       Bundled items requested for Ruie\n",
      "6     Acacia pacific tides santorini top\n",
      "Name: name, dtype: object\n"
     ]
    }
   ],
   "source": [
    "print('name 의 종류 갯수 :', mercari_df['name'].nunique())\n",
    "print('name sample 7건 : \\n', mercari_df['name'][:7])"
   ]
  },
  {
   "cell_type": "markdown",
   "metadata": {
    "id": "jaQHZRsOtCHk"
   },
   "source": [
    "** **굵은 텍스트**item_description의 문자열 개수 확인**"
   ]
  },
  {
   "cell_type": "code",
   "execution_count": 37,
   "metadata": {
    "colab": {
     "base_uri": "https://localhost:8080/"
    },
    "id": "dtNOhi0VtCHk",
    "outputId": "ea7dfe72-9f85-48da-f1c7-59d365ce7d60"
   },
   "outputs": [
    {
     "name": "stdout",
     "output_type": "stream",
     "text": [
      "item_description 평균 문자열 개수: 145.31036308742867\n"
     ]
    },
    {
     "data": {
      "text/plain": [
       "0                                                                                                                                                                              No description yet\n",
       "1    This keyboard is in great condition and works like it came out of the box. All of the ports are tested and work perfectly. The lights are customizable via the Razer Synapse app on your PC.\n",
       "Name: item_description, dtype: object"
      ]
     },
     "execution_count": 37,
     "metadata": {},
     "output_type": "execute_result"
    }
   ],
   "source": [
    "pd.set_option('max_colwidth', 200)\n",
    "\n",
    "# item_description의 평균 문자열 개수\n",
    "print('item_description 평균 문자열 개수:',mercari_df['item_description'].str.len().mean())\n",
    "\n",
    "mercari_df['item_description'][:2]"
   ]
  },
  {
   "cell_type": "code",
   "execution_count": 38,
   "metadata": {
    "colab": {
     "base_uri": "https://localhost:8080/"
    },
    "id": "FjIIe8mztCHk",
    "outputId": "01a82b0f-34cb-470f-a8c6-4f4e952d998e"
   },
   "outputs": [
    {
     "data": {
      "text/plain": [
       "252"
      ]
     },
     "execution_count": 38,
     "metadata": {},
     "output_type": "execute_result"
    }
   ],
   "source": [
    "import gc\n",
    "gc.collect()"
   ]
  },
  {
   "cell_type": "markdown",
   "metadata": {
    "id": "HKlGt6oQtCHk"
   },
   "source": [
    "**name은 Count로, item_description은 TF-IDF로 피처 벡터화**\n",
    "\n",
    "(10000, 15000)에서 약 4분 소요"
   ]
  },
  {
   "cell_type": "code",
   "execution_count": 39,
   "metadata": {
    "colab": {
     "base_uri": "https://localhost:8080/"
    },
    "id": "YRCQjjxNtCHk",
    "outputId": "b44e0dd2-a6d8-4559-b365-5d722894dcfc"
   },
   "outputs": [
    {
     "name": "stdout",
     "output_type": "stream",
     "text": [
      "name vectorization shape: (126526, 10000)\n",
      "item_description vectorization shape: (126526, 15000)\n"
     ]
    }
   ],
   "source": [
    "from sklearn.feature_extraction.text import CountVectorizer , TfidfVectorizer\n",
    "\n",
    "# name 속성에 대한 feature vectorization 변환\n",
    "cnt_vec = CountVectorizer(max_features=10000)\n",
    "X_name = cnt_vec.fit_transform(mercari_df.name)\n",
    "\n",
    "# item_description 에 대한 feature vectorization 변환 \n",
    "tfidf_descp = TfidfVectorizer(max_features = 15000, ngram_range= (1,3) , stop_words='english')\n",
    "X_descp = tfidf_descp.fit_transform(mercari_df['item_description'])\n",
    "\n",
    "print('name vectorization shape:',X_name.shape)\n",
    "print('item_description vectorization shape:',X_descp.shape)\n"
   ]
  },
  {
   "cell_type": "markdown",
   "metadata": {
    "id": "mxqbOpDmtCHl"
   },
   "source": [
    "**사이킷런의 LabelBinarizer를 이용하여 원-핫 인코딩 변환 후 희소행렬 최적화 형태로 저장**"
   ]
  },
  {
   "cell_type": "code",
   "execution_count": 40,
   "metadata": {
    "id": "y192Xzt4tCHl"
   },
   "outputs": [],
   "source": [
    "from sklearn.preprocessing import LabelBinarizer\n",
    "\n",
    "# brand_name, item_condition_id, shipping 각 피처들을 희소 행렬 원-핫 인코딩 변환\n",
    "lb_brand_name= LabelBinarizer(sparse_output=True)\n",
    "X_brand = lb_brand_name.fit_transform(mercari_df['brand_name'])\n",
    "\n",
    "lb_item_cond_id = LabelBinarizer(sparse_output=True)\n",
    "X_item_cond_id = lb_item_cond_id.fit_transform(mercari_df['item_condition_id'])\n",
    "\n",
    "lb_shipping= LabelBinarizer(sparse_output=True)\n",
    "X_shipping = lb_shipping.fit_transform(mercari_df['shipping'])\n",
    "\n",
    "lb_cat_general = LabelBinarizer(sparse_output=True)\n",
    "X_cat_general= lb_cat_general.fit_transform(mercari_df['cat_general'])\n",
    "\n",
    "lb_cat_sub1 = LabelBinarizer(sparse_output=True)\n",
    "X_cat_sub1 = lb_cat_sub1.fit_transform(mercari_df['cat_sub1'])\n",
    "\n",
    "lb_cat_sub2 = LabelBinarizer(sparse_output=True)\n",
    "X_cat_sub2 = lb_cat_sub2.fit_transform(mercari_df['cat_sub2'])"
   ]
  },
  {
   "cell_type": "code",
   "execution_count": 41,
   "metadata": {
    "colab": {
     "base_uri": "https://localhost:8080/"
    },
    "id": "cqkKhvXRtCHl",
    "outputId": "ed21e7f7-a874-4368-a0e3-c1a92fe6fe06"
   },
   "outputs": [
    {
     "name": "stdout",
     "output_type": "stream",
     "text": [
      "<class 'scipy.sparse.csr.csr_matrix'> <class 'scipy.sparse.csr.csr_matrix'> <class 'scipy.sparse.csr.csr_matrix'>\n",
      "X_brand_shape:(126526, 2272), X_item_cond_id shape:(126526, 5)\n",
      "X_shipping shape:(126526, 1), X_cat_general shape:(126526, 11)\n",
      "X_cat_sub1 shape:(126526, 112), X_cat_sub2 shape:(126526, 719)\n"
     ]
    }
   ],
   "source": [
    "print(type(X_brand), type(X_item_cond_id), type(X_shipping))\n",
    "print('X_brand_shape:{0}, X_item_cond_id shape:{1}'.format(X_brand.shape, X_item_cond_id.shape))\n",
    "print('X_shipping shape:{0}, X_cat_general shape:{1}'.format(X_shipping.shape, X_cat_general.shape))\n",
    "print('X_cat_sub1 shape:{0}, X_cat_sub2 shape:{1}'.format(X_cat_sub1.shape, X_cat_sub2.shape))"
   ]
  },
  {
   "cell_type": "markdown",
   "metadata": {
    "id": "bUcHCTUWtCHl"
   },
   "source": [
    "**피처 벡터화된 희소 행렬과 원-핫 인코딩된 희소 행렬을 모두 scipy 패키지의 hstack()함수를 이용하여 결합**\n",
    "\n",
    "> 들여쓴 블록\n",
    "\n"
   ]
  },
  {
   "cell_type": "code",
   "execution_count": 42,
   "metadata": {
    "colab": {
     "base_uri": "https://localhost:8080/"
    },
    "id": "3s0iAOVStCHm",
    "outputId": "fa9fe9f6-74cb-4c57-90da-df7ae3f69dfa"
   },
   "outputs": [
    {
     "name": "stdout",
     "output_type": "stream",
     "text": [
      "<class 'scipy.sparse.csr.csr_matrix'> (126526, 28120)\n"
     ]
    },
    {
     "data": {
      "text/plain": [
       "150"
      ]
     },
     "execution_count": 42,
     "metadata": {},
     "output_type": "execute_result"
    }
   ],
   "source": [
    "from  scipy.sparse import hstack\n",
    "import gc\n",
    "\n",
    "sparse_matrix_list = (X_name, X_descp, X_brand, X_item_cond_id,\n",
    "            X_shipping, X_cat_general, X_cat_sub1, X_cat_sub2)\n",
    "\n",
    "\n",
    "X_features_sparse= hstack(sparse_matrix_list).tocsr()\n",
    "print(type(X_features_sparse), X_features_sparse.shape)\n",
    "\n",
    "#del X_features_sparse\n",
    "\n",
    "gc.collect()\n"
   ]
  },
  {
   "cell_type": "code",
   "execution_count": 42,
   "metadata": {
    "id": "Ka-bkBlZ3zny"
   },
   "outputs": [],
   "source": []
  },
  {
   "cell_type": "markdown",
   "metadata": {
    "id": "6QAK5ekBtCHm"
   },
   "source": [
    "### 릿지 회귀 모델 구축 및 평가"
   ]
  },
  {
   "cell_type": "markdown",
   "metadata": {
    "id": "5HSfg5NXtCHm"
   },
   "source": [
    "**rmsle 정의**"
   ]
  },
  {
   "cell_type": "code",
   "execution_count": 43,
   "metadata": {
    "id": "4UY968DFtCHm"
   },
   "outputs": [],
   "source": [
    "def rmsle(y , y_pred):\n",
    "    return np.sqrt(np.mean(np.power(np.log1p(y) - np.log1p(y_pred), 2)))\n",
    "\n",
    "def evaluate_org_price(y_test , preds): \n",
    "    \n",
    "    preds_exmpm = np.expm1(preds)\n",
    "    y_test_exmpm = np.expm1(y_test)\n",
    "    \n",
    "    rmsle_result = rmsle(y_test_exmpm, preds_exmpm)\n",
    "    return rmsle_result"
   ]
  },
  {
   "cell_type": "markdown",
   "metadata": {
    "id": "XFZqY9LltCHm"
   },
   "source": [
    "**여러 모델에 대한 학습/예측을 수행하기 위해 별도의 함수인 model_train_predict()생성.** \n",
    "\n",
    "해당 함수는 여러 희소 행렬을 hstack()으로 결합한 뒤 학습과 테스트 데이터 세트로 분할 후 모델 학습 및 예측을 수행 "
   ]
  },
  {
   "cell_type": "code",
   "execution_count": 44,
   "metadata": {
    "id": "U5nr_JJwtCHm"
   },
   "outputs": [],
   "source": [
    "import gc \n",
    "from sklearn.model_selection import train_test_split , cross_val_score\n",
    "from sklearn.linear_model import Ridge , Lasso, ElasticNet, LinearRegression\n",
    "from  scipy.sparse import hstack\n",
    "\n",
    "def model_train_predict(model,matrix_list):\n",
    "    X= hstack(matrix_list).tocsr()     \n",
    "    X_train, X_test, y_train, y_test=train_test_split(X, mercari_df['price'], \n",
    "                                                      test_size=0.2, random_state=156)\n",
    "    \n",
    "    model.fit(X_train , y_train)\n",
    "    preds = model.predict(X_test)\n",
    "    \n",
    "    del X , X_train , X_test , y_train \n",
    "    gc.collect()\n",
    "    \n",
    "    return preds , y_test, model.coef_\n",
    "\n",
    "#ㅡㅡㅡㅡㅡㅡㅡㅡㅡㅡㅡㅡㅡㅡㅡㅡㅡㅡㅡㅡㅡㅡㅡㅡㅡㅡㅡㅡㅡㅡㅡㅡㅡㅡㅡㅡㅡㅡㅡㅡㅡㅡㅡ\n",
    "# 과적합 확인용 함수\n",
    "def model_train_predict_and_evaluate(model,matrix_list):\n",
    "    X= hstack(matrix_list).tocsr()     \n",
    "    X_train, X_test, y_train, y_test=train_test_split(X, mercari_df['price'], \n",
    "                                                      test_size=0.2, random_state=156)\n",
    "    \n",
    "    model.fit(X_train , y_train)\n",
    "    pred1 = model.predict(X_train)\n",
    "    pred2 = model.predict(X_test)\n",
    "    train_rmsle = evaluate_org_price(y_train , pred1)\n",
    "    test_rmsle = evaluate_org_price(y_test , pred2)\n",
    "    del X , X_train , X_test , y_train \n",
    "    gc.collect()\n",
    "    \n",
    "    return train_rmsle , test_rmsle, model.coef_\n",
    "#ㅡㅡㅡㅡㅡㅡㅡㅡㅡㅡㅡㅡㅡㅡㅡㅡㅡㅡㅡㅡㅡㅡㅡㅡㅡㅡㅡㅡㅡㅡㅡㅡㅡㅡㅡㅡㅡㅡㅡㅡㅡㅡㅡㅡ"
   ]
  },
  {
   "cell_type": "markdown",
   "metadata": {
    "id": "qLmU-85htCHn"
   },
   "source": [
    "**릿지 선형 회귀로 학습/예측/평가. Item Description 피처의 영향도를 알아보기 위한 테스트 함께 수행**"
   ]
  },
  {
   "cell_type": "code",
   "execution_count": 45,
   "metadata": {
    "colab": {
     "base_uri": "https://localhost:8080/"
    },
    "id": "-tuPtJ9ttCHn",
    "outputId": "33ae7016-de65-4331-9289-c07ffa18a549"
   },
   "outputs": [
    {
     "name": "stdout",
     "output_type": "stream",
     "text": [
      "모든 피처 포함 시 train rmsle 값 :  0.39755786393798664\n",
      "모든 피처 포함 시 test rmsle 값 :  0.4973304446000849 \n",
      "\n",
      "X_descp 제외 시 train rmsle 값 :  0.4520875940027727\n",
      "X_descp 제외 시 test rmsle 값 :  0.5125041128654386 \n",
      "\n",
      "X_name 제외 시 train rmsle 값 :  0.4643929284180886\n",
      "X_name 제외 시 test rmsle 값 :  0.5238075667976659 \n",
      "\n",
      "X_cond_id와 X_shipping 제외 시 train rmsle 값 :  0.40557275965959966\n",
      "X_cond_id와 X_shipping 제외 시 test rmsle 값 :  0.5068882467618785 \n",
      "\n",
      "대/중/소 분류 피처 제외 시 train rmsle 값 :  0.412226409846328\n",
      "대/중/소 분류 피처 제외 시 test rmsle 값 :  0.5087348286712731 \n",
      "\n"
     ]
    }
   ],
   "source": [
    "sparse_matrix_list = (X_descp,X_name, X_brand, X_item_cond_id, X_shipping, X_cat_general, X_cat_sub1, X_cat_sub2)\n",
    "\n",
    "train_rmsle , test_rmsle, coef = model_train_predict_and_evaluate(Ridge() ,sparse_matrix_list)\n",
    "print('모든 피처 포함 시 train rmsle 값 : ',  train_rmsle)\n",
    "print('모든 피처 포함 시 test rmsle 값 : ',  test_rmsle, '\\n')\n",
    "\n",
    "sparse_matrix_list = (X_name, X_brand, X_item_cond_id, X_shipping, X_cat_general, X_cat_sub1, X_cat_sub2)\n",
    "\n",
    "train_rmsle , test_rmsle, coef = model_train_predict_and_evaluate(Ridge() ,sparse_matrix_list)\n",
    "print('X_descp 제외 시 train rmsle 값 : ',  train_rmsle)\n",
    "print('X_descp 제외 시 test rmsle 값 : ',  test_rmsle, '\\n')\n",
    "\n",
    "sparse_matrix_list = (X_descp, X_brand, X_item_cond_id, X_shipping, X_cat_general, X_cat_sub1, X_cat_sub2)\n",
    "\n",
    "train_rmsle , test_rmsle, coef = model_train_predict_and_evaluate(Ridge(),sparse_matrix_list)\n",
    "print('X_name 제외 시 train rmsle 값 : ',  train_rmsle)\n",
    "print('X_name 제외 시 test rmsle 값 : ',  test_rmsle, '\\n')\n",
    "\n",
    "sparse_matrix_list = (X_descp,X_name, X_brand, X_cat_general, X_cat_sub1, X_cat_sub2)\n",
    "\n",
    "train_rmsle , test_rmsle, coef = model_train_predict_and_evaluate(Ridge(),sparse_matrix_list)\n",
    "print('X_cond_id와 X_shipping 제외 시 train rmsle 값 : ',  train_rmsle)\n",
    "print('X_cond_id와 X_shipping 제외 시 test rmsle 값 : ',  test_rmsle, '\\n')\n",
    "\n",
    "sparse_matrix_list = (X_descp, X_name, X_brand, X_item_cond_id, X_shipping)\n",
    "\n",
    "train_rmsle , test_rmsle, coef = model_train_predict_and_evaluate(Ridge(),sparse_matrix_list)\n",
    "print('대/중/소 분류 피처 제외 시 train rmsle 값 : ',  train_rmsle)\n",
    "print('대/중/소 분류 피처 제외 시 test rmsle 값 : ',  test_rmsle, '\\n')"
   ]
  },
  {
   "cell_type": "markdown",
   "metadata": {
    "id": "YVH25T0iBPDq"
   },
   "source": [
    "릿지"
   ]
  },
  {
   "cell_type": "code",
   "execution_count": 46,
   "metadata": {
    "colab": {
     "base_uri": "https://localhost:8080/"
    },
    "id": "pgobB1SFA-wZ",
    "outputId": "bc27edfb-823c-4f44-f35b-79592dcab006"
   },
   "outputs": [
    {
     "name": "stdout",
     "output_type": "stream",
     "text": [
      "alpha값이 100000일때 rmsle 값: 0.6907443676657777\n",
      "alpha값이 10000일때 rmsle 값: 0.642432838862224\n",
      "alpha값이 1000일때 rmsle 값: 0.5747723801992007\n",
      "alpha값이 100일때 rmsle 값: 0.5124534224873488\n",
      "alpha값이 10일때 rmsle 값: 0.4836989828912129\n",
      "alpha값이 1일때 rmsle 값: 0.4973304446000849\n",
      "alpha값이 0.1일때 rmsle 값: 0.5300488476355915\n",
      "alpha값이 0.01일때 rmsle 값: 0.5445690827907703\n",
      "alpha값이 0.001일때 rmsle 값: 0.5472130436892018\n",
      "alpha값이 0.0001일때 rmsle 값: 0.5475514238016658\n"
     ]
    }
   ],
   "source": [
    "\n",
    "alphas_ridge1= [100000, 10000, 1000, 100, 10, 1, 0.1, 0.01, 0.001, 0.0001]\n",
    "\n",
    "sparse_matrix_list = (X_descp, X_name, X_brand, X_item_cond_id,\n",
    "                      X_shipping, X_cat_general, X_cat_sub1, X_cat_sub2)\n",
    "\n",
    "for a in alphas_ridge1:\n",
    "  linear_preds , y_test, coef = model_train_predict(model=Ridge(alpha=a) , matrix_list=sparse_matrix_list)\n",
    "  print(f'alpha값이 {a}일때 rmsle 값:',  evaluate_org_price(y_test ,linear_preds))"
   ]
  },
  {
   "cell_type": "markdown",
   "metadata": {
    "id": "7s4HyMPsBQvz"
   },
   "source": [
    "**라쏘 - 중요하지 않은 회귀 계수를 0으로 만드는 특징이 있다. ridge와의 차이점**\n"
   ]
  },
  {
   "cell_type": "code",
   "execution_count": 47,
   "metadata": {
    "colab": {
     "base_uri": "https://localhost:8080/"
    },
    "id": "Cn9OkeMqBAN-",
    "outputId": "92ca4ce6-4668-45d6-f0ec-43e04e5da399"
   },
   "outputs": [
    {
     "name": "stdout",
     "output_type": "stream",
     "text": [
      "the number of used features: 0\n",
      "alpha값이 0.1일때 rmsle 값: 0.7095462554661917\n",
      "the number of used features: 11\n",
      "alpha값이 0.01일때 rmsle 값: 0.6599291154635869\n",
      "the number of used features: 12\n",
      "alpha값이 0.008일때 rmsle 값: 0.6559914986581172\n",
      "the number of used features: 20\n",
      "alpha값이 0.006일때 rmsle 값: 0.6503587624441489\n"
     ]
    }
   ],
   "source": [
    "alphas_lasso= [0.1, 0.01, 0.008, 0.006]\n",
    "sparse_matrix_list = (X_descp, X_name, X_brand, X_item_cond_id,\n",
    "                      X_shipping, X_cat_general, X_cat_sub1, X_cat_sub2)\n",
    "coef_double_list = []\n",
    "for a in alphas_lasso:\n",
    "    lasso = Lasso(alpha=a)\n",
    "    linear_preds , y_test, coef = model_train_predict(model=lasso , matrix_list=sparse_matrix_list)\n",
    "    print(\"the number of used features: {}\".format(np.sum(coef != 0)))\n",
    "    coef_double_list.append(coef)\n",
    "    print(f'alpha값이 {a}일때 rmsle 값:',  evaluate_org_price(y_test ,linear_preds))"
   ]
  },
  {
   "cell_type": "code",
   "execution_count": 48,
   "metadata": {
    "colab": {
     "base_uri": "https://localhost:8080/"
    },
    "id": "YtXSOL_HPDdg",
    "outputId": "01a1c4aa-bba4-4134-eeef-fa7021acb6a0"
   },
   "outputs": [
    {
     "data": {
      "text/plain": [
       "(0.3463910691400129, 0.3963388276872331, 0.436482246575805)"
      ]
     },
     "execution_count": 48,
     "metadata": {},
     "output_type": "execute_result"
    }
   ],
   "source": [
    "coef_double_list[1].max(), coef_double_list[2].max(), coef_double_list[3].max()"
   ]
  },
  {
   "cell_type": "code",
   "execution_count": 49,
   "metadata": {
    "colab": {
     "base_uri": "https://localhost:8080/"
    },
    "id": "7I7r5b63pwvb",
    "outputId": "c68a8abd-bd36-4cb4-fe97-4f90ee9c22e1"
   },
   "outputs": [
    {
     "name": "stdout",
     "output_type": "stream",
     "text": [
      "the number of used features: 35\n",
      "alpha값이 0.004일때 rmsle 값: 0.637945975819889\n",
      "the number of used features: 47\n",
      "alpha값이 0.003일때 rmsle 값: 0.6291808697038982\n"
     ]
    }
   ],
   "source": [
    "alphas_lasso= [0.004, 0.003]\n",
    "sparse_matrix_list = (X_descp, X_name, X_brand, X_item_cond_id,\n",
    "                      X_shipping, X_cat_general, X_cat_sub1, X_cat_sub2)\n",
    "#coef_double_list = []\n",
    "for a in alphas_lasso:\n",
    "    lasso = Lasso(alpha=a)\n",
    "    linear_preds , y_test, coef = model_train_predict(model=lasso , matrix_list=sparse_matrix_list)\n",
    "    print(\"the number of used features: {}\".format(np.sum(coef != 0)))\n",
    "    coef_double_list.append(coef)\n",
    "    print(f'alpha값이 {a}일때 rmsle 값:',  evaluate_org_price(y_test ,linear_preds))"
   ]
  },
  {
   "cell_type": "markdown",
   "metadata": {
    "id": "opGA5okJBRtM"
   },
   "source": [
    "엘라스틱넷"
   ]
  },
  {
   "cell_type": "code",
   "execution_count": 50,
   "metadata": {
    "colab": {
     "base_uri": "https://localhost:8080/"
    },
    "id": "NKdr20MIBEJi",
    "outputId": "8b2d63cb-eb15-4503-b3bc-20f2256cf930"
   },
   "outputs": [
    {
     "name": "stdout",
     "output_type": "stream",
     "text": [
      "alpha값이 0.1, ratio값이 0.2일때 rmsle 값: 0.6874262515277004\n",
      "alpha값이 0.1, ratio값이 0.5일때 rmsle 값: 0.6999896552574817\n",
      "alpha값이 0.1, ratio값이 0.8일때 rmsle 값: 0.7095462554661917\n",
      "alpha값이 0.01, ratio값이 0.2일때 rmsle 값: 0.6269578877650239\n",
      "alpha값이 0.01, ratio값이 0.5일때 rmsle 값: 0.6478600899612016\n",
      "alpha값이 0.01, ratio값이 0.8일때 rmsle 값: 0.6566848913993281\n"
     ]
    }
   ],
   "source": [
    "alphas_elasticnet= [0.1, 0.01]\n",
    "ratios = [0.2, 0.5, 0.8]\n",
    "\n",
    "for a in alphas_elasticnet:\n",
    "  for r in ratios:\n",
    "    linear_preds , y_test, coef = model_train_predict(model=ElasticNet(alpha=a, l1_ratio=r) , matrix_list=sparse_matrix_list)\n",
    "    print(f'alpha값이 {a}, ratio값이 {r}일때 rmsle 값:',  evaluate_org_price(y_test ,linear_preds))"
   ]
  },
  {
   "cell_type": "code",
   "execution_count": 51,
   "metadata": {
    "colab": {
     "base_uri": "https://localhost:8080/"
    },
    "id": "3i8FxbqiP50s",
    "outputId": "4bdff9f6-e2cc-4992-e2e1-834093b1bdac"
   },
   "outputs": [
    {
     "name": "stdout",
     "output_type": "stream",
     "text": [
      "alpha값이 0.008, ratio값이 0.1일때 rmsle 값: 0.6039431983712269\n",
      "alpha값이 0.008, ratio값이 0.2일때 rmsle 값: 0.6195154054541573\n",
      "alpha값이 0.006, ratio값이 0.1일때 rmsle 값: 0.593504272890278\n",
      "alpha값이 0.006, ratio값이 0.2일때 rmsle 값: 0.6093452453263685\n"
     ]
    }
   ],
   "source": [
    "alphas_elasticnet= [0.008, 0.006]\n",
    "ratios = [0.1, 0.2]\n",
    "\n",
    "for a in alphas_elasticnet:\n",
    "  for r in ratios:\n",
    "    linear_preds , y_test, coef = model_train_predict(model=ElasticNet(alpha=a, l1_ratio=r) , matrix_list=sparse_matrix_list)\n",
    "    print(f'alpha값이 {a}, ratio값이 {r}일때 rmsle 값:',  evaluate_org_price(y_test ,linear_preds))"
   ]
  },
  {
   "cell_type": "markdown",
   "metadata": {
    "id": "lSM6qNlHtCHn"
   },
   "source": [
    "### LightGBM 회귀 모델 구축과 앙상블을 이용한 최종 예측 평가"
   ]
  },
  {
   "cell_type": "code",
   "execution_count": 54,
   "metadata": {
    "id": "K3ucCM5EjK_i"
   },
   "outputs": [],
   "source": [
    "def model_train_predict2(model,matrix_list):\n",
    "    X= hstack(matrix_list).tocsr()     \n",
    "    X_train, X_test, y_train, y_test=train_test_split(X, mercari_df['price'], \n",
    "                                                      test_size=0.2, random_state=156)\n",
    "    \n",
    "    model.fit(X_train , y_train)\n",
    "    preds = model.predict(X_test)\n",
    "    \n",
    "    del X , X_train , X_test , y_train \n",
    "    gc.collect()\n",
    "    \n",
    "    return preds , y_test\n",
    "\n",
    "#ㅡㅡㅡㅡㅡㅡㅡㅡㅡㅡㅡㅡㅡㅡㅡㅡㅡㅡㅡㅡㅡㅡㅡㅡㅡㅡㅡㅡㅡㅡㅡㅡㅡㅡㅡㅡㅡㅡㅡㅡㅡㅡㅡ\n",
    "# 과적합 확인용 함수\n",
    "def model_train_predict_and_evaluate2(model,matrix_list):\n",
    "    X= hstack(matrix_list).tocsr()     \n",
    "    X_train, X_test, y_train, y_test=train_test_split(X, mercari_df['price'], \n",
    "                                                      test_size=0.2, random_state=156)\n",
    "    \n",
    "    model.fit(X_train , y_train)\n",
    "    pred1 = model.predict(X_train)\n",
    "    pred2 = model.predict(X_test)\n",
    "    train_rmsle = evaluate_org_price(y_train , pred1)\n",
    "    test_rmsle = evaluate_org_price(y_test , pred2)\n",
    "    del X , X_train , X_test , y_train \n",
    "    gc.collect()\n",
    "    \n",
    "    return train_rmsle , test_rmsle"
   ]
  },
  {
   "cell_type": "code",
   "execution_count": 56,
   "metadata": {
    "colab": {
     "base_uri": "https://localhost:8080/"
    },
    "id": "cqj8IU2ptCHn",
    "outputId": "f3d32958-c17a-4b4f-82db-18aed01b9a18"
   },
   "outputs": [
    {
     "name": "stdout",
     "output_type": "stream",
     "text": [
      "LightGBM rmsle 값: 0.5152704213904805\n"
     ]
    }
   ],
   "source": [
    "from lightgbm import LGBMRegressor\n",
    "\n",
    "sparse_matrix_list = (X_descp, X_name, X_brand, X_item_cond_id,\n",
    "                      X_shipping, X_cat_general, X_cat_sub1, X_cat_sub2)\n",
    "\n",
    "lgbm_model = LGBMRegressor(n_estimators=200, learning_rate=0.5, num_leaves=125, random_state=156)\n",
    "gc.collect()\n",
    "lgbm_preds , y_test = model_train_predict2(model = lgbm_model , matrix_list=sparse_matrix_list)\n",
    "print('LightGBM rmsle 값:',  evaluate_org_price(y_test , lgbm_preds))"
   ]
  },
  {
   "cell_type": "code",
   "execution_count": 57,
   "metadata": {
    "colab": {
     "base_uri": "https://localhost:8080/"
    },
    "id": "302h_35ktCHn",
    "outputId": "6fe8775b-c930-48c2-c22d-3889dfd48ef5"
   },
   "outputs": [
    {
     "name": "stdout",
     "output_type": "stream",
     "text": [
      "LightGBM과 Ridge를 ensemble한 최종 rmsle 값: 0.5233754625971284\n"
     ]
    }
   ],
   "source": [
    "preds = lgbm_preds * 0.45 + linear_preds * 0.55\n",
    "print('LightGBM과 Ridge를 ensemble한 최종 rmsle 값:',  evaluate_org_price(y_test , preds))"
   ]
  },
  {
   "cell_type": "code",
   "execution_count": 58,
   "metadata": {
    "id": "k-3YshoWtCHn"
   },
   "outputs": [],
   "source": [
    "from lightgbm import LGBMRegressor\n",
    "lgbm_model = LGBMRegressor(n_estimators=200, learning_rate=0.5, num_leaves=125, random_state=156)"
   ]
  }
 ],
 "metadata": {
  "accelerator": "GPU",
  "colab": {
   "collapsed_sections": [],
   "name": "asdf.ipynb의 사본",
   "provenance": []
  },
  "kernelspec": {
   "display_name": "Python 3 (ipykernel)",
   "language": "python",
   "name": "python3"
  },
  "language_info": {
   "codemirror_mode": {
    "name": "ipython",
    "version": 3
   },
   "file_extension": ".py",
   "mimetype": "text/x-python",
   "name": "python",
   "nbconvert_exporter": "python",
   "pygments_lexer": "ipython3",
   "version": "3.9.7"
  }
 },
 "nbformat": 4,
 "nbformat_minor": 1
}
